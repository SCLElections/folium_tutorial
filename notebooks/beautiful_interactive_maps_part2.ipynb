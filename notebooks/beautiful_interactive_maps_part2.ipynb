{
 "cells": [
  {
   "cell_type": "markdown",
   "metadata": {},
   "source": [
    "# Python Tutorial: Quickly Make Beautiful Interactive Maps - Zoom In\n",
    "by Dr. Eyal Kazin, Senior Data Scientist, London, UK\n",
    "\n",
    "This is the second part in our three part series on how to use python to quickly create interactive maps.  \n",
    "\n",
    "In part 1 we demonstrated how to use Python to create a `Map` object, locate it, decide the zoom range, tiles and add a `LayerControl` feature.     \n",
    "Here we focus on layer features most commonly used in a zoomed-in map:   \n",
    "* Markers and Feature Groups\n",
    "* Marker Clusters (markers, or features, that aggregate when you zoom out)\n",
    "* Designing Marker Icons (image and text)\n",
    "* Circles  \n",
    "\n",
    "**Disclaimer**  \n",
    "We discuss a handful of features which we use frequently. The reader is encouraged to use the module help pages to explore the full potential and updates in the API.   \n",
    "(The Folium API used here assumes version `0.5.0`.)  \n",
    "\n",
    "** Credits **  \n",
    "Maps used are provided by © OpenStreetMap contributors. \n",
    "\n",
    "This tutorial can be followed here or in [nbviewer](https://nbviewer.jupyter.org/github/SCLElections/folium_tutorial/blob/master/notebooks/beautiful_interactive_maps_part2.ipynb).  All code is also avilable on [Github](https://github.com/SCLElections/folium_tutorial).  "
   ]
  },
  {
   "cell_type": "code",
   "execution_count": 1,
   "metadata": {
    "ExecuteTime": {
     "end_time": "2018-03-13T10:53:04.265221Z",
     "start_time": "2018-03-13T10:53:02.500757Z"
    }
   },
   "outputs": [
    {
     "data": {
      "text/plain": [
       "u'0.5.0'"
      ]
     },
     "execution_count": 1,
     "metadata": {},
     "output_type": "execute_result"
    }
   ],
   "source": [
    "import folium  # to install: pip install folium\n",
    "\n",
    "folium.__version__"
   ]
  },
  {
   "cell_type": "markdown",
   "metadata": {},
   "source": [
    "## Data  \n",
    "\n",
    "To set the stage introduce some data that we want to put on a map. Here we us `pandas` to quickly collate some geospatial data in a machine readable format, but this is not required (lists and tuples work fine, too).    \n",
    "(We used [Google Maps API](`https://maps.googleapis.com`) to pull the actual locations, all located in New York City)   "
   ]
  },
  {
   "cell_type": "code",
   "execution_count": 2,
   "metadata": {
    "ExecuteTime": {
     "end_time": "2018-03-13T10:53:04.285894Z",
     "start_time": "2018-03-13T10:53:04.269782Z"
    }
   },
   "outputs": [],
   "source": [
    "places = ['4 Washington Place',\n",
    " '10 Washington Place',\n",
    " '16 Washington Place',\n",
    " '22 Washington Place',\n",
    " '28 Washington Place',\n",
    " '34 Washington Place',\n",
    " '40 Washington Place',\n",
    " '46 Washington Place',\n",
    " '64 Washington Place',\n",
    " '70 Washington Place',\n",
    " '76 Washington Place',\n",
    " '82 Washington Place',\n",
    " '88 Washington Place',\n",
    " '94 Washington Place']\n",
    "\n",
    "\n",
    "latitude_longitudes = [(40.729020400000003, -73.99428429999999),\n",
    " (40.729370000000003, -73.995001299999998),\n",
    " (40.729528100000003, -73.995153799999997),\n",
    " (40.729940999999997, -73.995627599999992),\n",
    " (40.729841800000003, -73.995996199999993),\n",
    " (40.7300495, -73.995843800000003),\n",
    " (40.730065400000001, -73.995875500000011),\n",
    " (40.729164500000003, -73.994440999999995),\n",
    " (40.731659499999999, -73.999168999999995),\n",
    " (40.731653999999999, -73.999519599999999),\n",
    " (40.731793499999988, -73.999886799999999),\n",
    " (40.731885699999999, -74.000196599999995),\n",
    " (40.7319855, -74.000376799999998),\n",
    " (40.732303399999999, -74.000484200000002)]"
   ]
  },
  {
   "cell_type": "code",
   "execution_count": 3,
   "metadata": {
    "ExecuteTime": {
     "end_time": "2018-03-13T10:53:04.322809Z",
     "start_time": "2018-03-13T10:53:04.290568Z"
    }
   },
   "outputs": [
    {
     "data": {
      "text/html": [
       "<div>\n",
       "<style>\n",
       "    .dataframe thead tr:only-child th {\n",
       "        text-align: right;\n",
       "    }\n",
       "\n",
       "    .dataframe thead th {\n",
       "        text-align: left;\n",
       "    }\n",
       "\n",
       "    .dataframe tbody tr th {\n",
       "        vertical-align: top;\n",
       "    }\n",
       "</style>\n",
       "<table border=\"1\" class=\"dataframe\">\n",
       "  <thead>\n",
       "    <tr style=\"text-align: right;\">\n",
       "      <th></th>\n",
       "      <th>latitude_longitude</th>\n",
       "    </tr>\n",
       "    <tr>\n",
       "      <th>place</th>\n",
       "      <th></th>\n",
       "    </tr>\n",
       "  </thead>\n",
       "  <tbody>\n",
       "    <tr>\n",
       "      <th>4 Washington Place</th>\n",
       "      <td>(40.7290204, -73.9942843)</td>\n",
       "    </tr>\n",
       "    <tr>\n",
       "      <th>10 Washington Place</th>\n",
       "      <td>(40.72937, -73.9950013)</td>\n",
       "    </tr>\n",
       "    <tr>\n",
       "      <th>16 Washington Place</th>\n",
       "      <td>(40.7295281, -73.9951538)</td>\n",
       "    </tr>\n",
       "    <tr>\n",
       "      <th>22 Washington Place</th>\n",
       "      <td>(40.729941, -73.9956276)</td>\n",
       "    </tr>\n",
       "    <tr>\n",
       "      <th>28 Washington Place</th>\n",
       "      <td>(40.7298418, -73.9959962)</td>\n",
       "    </tr>\n",
       "    <tr>\n",
       "      <th>34 Washington Place</th>\n",
       "      <td>(40.7300495, -73.9958438)</td>\n",
       "    </tr>\n",
       "    <tr>\n",
       "      <th>40 Washington Place</th>\n",
       "      <td>(40.7300654, -73.9958755)</td>\n",
       "    </tr>\n",
       "    <tr>\n",
       "      <th>46 Washington Place</th>\n",
       "      <td>(40.7291645, -73.994441)</td>\n",
       "    </tr>\n",
       "    <tr>\n",
       "      <th>64 Washington Place</th>\n",
       "      <td>(40.7316595, -73.999169)</td>\n",
       "    </tr>\n",
       "    <tr>\n",
       "      <th>70 Washington Place</th>\n",
       "      <td>(40.731654, -73.9995196)</td>\n",
       "    </tr>\n",
       "    <tr>\n",
       "      <th>76 Washington Place</th>\n",
       "      <td>(40.7317935, -73.9998868)</td>\n",
       "    </tr>\n",
       "    <tr>\n",
       "      <th>82 Washington Place</th>\n",
       "      <td>(40.7318857, -74.0001966)</td>\n",
       "    </tr>\n",
       "    <tr>\n",
       "      <th>88 Washington Place</th>\n",
       "      <td>(40.7319855, -74.0003768)</td>\n",
       "    </tr>\n",
       "    <tr>\n",
       "      <th>94 Washington Place</th>\n",
       "      <td>(40.7323034, -74.0004842)</td>\n",
       "    </tr>\n",
       "  </tbody>\n",
       "</table>\n",
       "</div>"
      ],
      "text/plain": [
       "                            latitude_longitude\n",
       "place                                         \n",
       "4 Washington Place   (40.7290204, -73.9942843)\n",
       "10 Washington Place    (40.72937, -73.9950013)\n",
       "16 Washington Place  (40.7295281, -73.9951538)\n",
       "22 Washington Place   (40.729941, -73.9956276)\n",
       "28 Washington Place  (40.7298418, -73.9959962)\n",
       "34 Washington Place  (40.7300495, -73.9958438)\n",
       "40 Washington Place  (40.7300654, -73.9958755)\n",
       "46 Washington Place   (40.7291645, -73.994441)\n",
       "64 Washington Place   (40.7316595, -73.999169)\n",
       "70 Washington Place   (40.731654, -73.9995196)\n",
       "76 Washington Place  (40.7317935, -73.9998868)\n",
       "82 Washington Place  (40.7318857, -74.0001966)\n",
       "88 Washington Place  (40.7319855, -74.0003768)\n",
       "94 Washington Place  (40.7323034, -74.0004842)"
      ]
     },
     "execution_count": 3,
     "metadata": {},
     "output_type": "execute_result"
    }
   ],
   "source": [
    "import pandas as pd # pip install pandas\n",
    "\n",
    "df_ = pd.DataFrame({'latitude_longitude': latitude_longitudes}, index=places)\n",
    "df_.index.name = 'place'\n",
    "df_"
   ]
  },
  {
   "cell_type": "markdown",
   "metadata": {},
   "source": [
    "## Markers  and Feature Groups\n",
    "\n",
    "`folium.Marker` is a marker object, which takes keywords:  \n",
    "* `location` - tuple or list of the geolocations (latitude, longtiude)  \n",
    "* `popup`\n",
    "    * `str` - input text for marker  \n",
    "    * `folium.Popup` - for visualization\n",
    "* `icon` - a `folium.Icon` object (discussed further below)  \n",
    "\n",
    "Here we show that `Marker` objects can be aggregated to a layer with `folium.FeatureGroup`. "
   ]
  },
  {
   "cell_type": "code",
   "execution_count": 4,
   "metadata": {
    "ExecuteTime": {
     "end_time": "2018-03-13T10:53:04.854580Z",
     "start_time": "2018-03-13T10:53:04.328002Z"
    }
   },
   "outputs": [
    {
     "data": {
      "text/html": [
       "<div style=\"width:100%;\"><div style=\"position:relative;width:100%;height:0;padding-bottom:60%;\"><iframe src=\"data:text/html;charset=utf-8;base64,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\" style=\"position:absolute;width:100%;height:100%;left:0;top:0;border:none !important;\" allowfullscreen webkitallowfullscreen mozallowfullscreen></iframe></div></div>"
      ],
      "text/plain": [
       "<folium.folium.Map at 0x102735c10>"
      ]
     },
     "execution_count": 4,
     "metadata": {},
     "output_type": "execute_result"
    }
   ],
   "source": [
    "# ====== Create the Marker Group layer ======\n",
    "marker_group = folium.FeatureGroup(name='Location Markers')\n",
    "\n",
    "for idx, row in df_.iterrows():\n",
    "    label = \"{} New York, NY \".format(idx) # we can label each label with popup \n",
    "    folium.Marker(row['latitude_longitude'], popup=label).add_to(marker_group)\n",
    "\n",
    "# ====== Create a map object, location and zoom ======\n",
    "center_latitude, center_longitude = 40.729183, -73.994263\n",
    "location = (center_latitude, center_longitude)\n",
    "zoom_start = 18\n",
    "\n",
    "map_ = folium.Map(location=location, zoom_start=zoom_start, control_scale=True) \n",
    "\n",
    "# ====== Add Marker Group Layer to the map ======\n",
    "marker_group.add_to(map_) # or: map_.add_child(marker_group)\n",
    "\n",
    "# ====== Display ======\n",
    "# map_.save('my_map.html') # (alternatively create an HTML)\n",
    "\n",
    "map_ # display in the notebook"
   ]
  },
  {
   "cell_type": "markdown",
   "metadata": {},
   "source": [
    "Note: Click on a marker to read its label. "
   ]
  },
  {
   "cell_type": "markdown",
   "metadata": {},
   "source": [
    "## Marker Clusters  \n",
    "When zooming out in the previous map, you will notice that the `Marker` objects tend to overlap.  \n",
    "A useful alternative to `folium.FeatureGroup` is `plugins.MarkerCluster`, which will aggregate the markers into a more interactive object that describes the number of markers it is made of and has a dynamic click-to-zoom-in feature.\n"
   ]
  },
  {
   "cell_type": "code",
   "execution_count": 5,
   "metadata": {
    "ExecuteTime": {
     "end_time": "2018-03-13T10:53:04.956669Z",
     "start_time": "2018-03-13T10:53:04.857338Z"
    }
   },
   "outputs": [],
   "source": [
    "from folium import plugins"
   ]
  },
  {
   "cell_type": "code",
   "execution_count": 6,
   "metadata": {
    "ExecuteTime": {
     "end_time": "2018-03-13T10:53:05.502388Z",
     "start_time": "2018-03-13T10:53:04.961704Z"
    }
   },
   "outputs": [
    {
     "data": {
      "text/html": [
       "<div style=\"width:100%;\"><div style=\"position:relative;width:100%;height:0;padding-bottom:60%;\"><iframe src=\"data:text/html;charset=utf-8;base64,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\" style=\"position:absolute;width:100%;height:100%;left:0;top:0;border:none !important;\" allowfullscreen webkitallowfullscreen mozallowfullscreen></iframe></div></div>"
      ],
      "text/plain": [
       "<folium.folium.Map at 0x104ec86d0>"
      ]
     },
     "execution_count": 6,
     "metadata": {},
     "output_type": "execute_result"
    }
   ],
   "source": [
    "# ====== Create the Marker Cluster layer ======\n",
    "# this code is similar to before where we now replace `folium.FeatureGroup` with  `plugins.MarkerCluster`\n",
    "marker_group_clustered = plugins.MarkerCluster(name='Location Markers Clustered')\n",
    "\n",
    "for idx, row in df_.iterrows():\n",
    "    label = \"{} New York, NY \".format(idx) # we can label each label with popup \n",
    "    folium.Marker(row['latitude_longitude'], popup=label).add_to(marker_group_clustered)\n",
    "    \n",
    "# ====== Create a map object, location and zoom ======\n",
    "center_latitude, center_longitude =  40.731654, -73.9995196\n",
    "location = (center_latitude, center_longitude)\n",
    "zoom_start = 18\n",
    "\n",
    "map_ = folium.Map(location=location, zoom_start=zoom_start, control_scale=True) \n",
    "\n",
    "# ====== Add Marker Cluster Layer to the map ======\n",
    "marker_group_clustered.add_to(map_) # or map_.add_child(marker_group_clustered)\n",
    "\n",
    "# ====== Display ======\n",
    "# map_.save('my_map.html') # (alternatively create an HTML)\n",
    "\n",
    "map_ # display in notebook"
   ]
  },
  {
   "cell_type": "markdown",
   "metadata": {},
   "source": [
    "Notes:\n",
    "* Zoom out and back in to see what happens  \n",
    "* Zoom out again and then click on a cluster. The map should either zoom in automatically while showing smaller clusters or the markers.  \n",
    "* The marker label functionality is the same as before "
   ]
  },
  {
   "cell_type": "markdown",
   "metadata": {},
   "source": [
    "## Icons\n",
    "\n",
    "`folium.Icon` enables you to choose from a large variety of icons and colors for the Markers.  \n",
    "\n",
    "keywords:   \n",
    "* `prefix` - The prefix indicating the source of `icon` (default is `glyphicon`; `fa` for font-awesome. See sources below)    \n",
    "* `icon` - The name of the marker sign.     \n",
    "* `color` - the color of the marker  \n",
    "* `icon_color` - the color of the sign of the marker  \n",
    "\n",
    "Supported colors:  \n",
    "```\n",
    "['red', 'blue', 'green', 'purple', 'orange', 'darkred', 'lightred', 'beige', 'darkblue', 'darkgreen', 'cadetblue',\n",
    "'darkpurple', 'white', 'pink', 'lightblue', 'lightgreen', 'gray', 'black', 'lightgray']\n",
    "```\n",
    "\n",
    "\n",
    "There are two main free sources of icons to choose from:  \n",
    "\n",
    "* [fontawesome.com gallery (`prefix='fa'`)](https://fontawesome.com/icons?d=gallery)   \n",
    "  \n",
    "* [bootstrap 3 glyphicon (`prefix='glyphicon'`)](https://getbootstrap.com/docs/3.3/components/)      \n",
    "\n",
    "\n",
    "In the following we create a `FeatureGroup`, as before, but we now feed the `icon` keyword with an  `Icon` object.  "
   ]
  },
  {
   "cell_type": "code",
   "execution_count": 7,
   "metadata": {
    "ExecuteTime": {
     "end_time": "2018-03-13T10:53:06.232580Z",
     "start_time": "2018-03-13T10:53:05.507578Z"
    },
    "scrolled": false
   },
   "outputs": [
    {
     "data": {
      "text/html": [
       "<div style=\"width:100%;\"><div style=\"position:relative;width:100%;height:0;padding-bottom:60%;\"><iframe src=\"data:text/html;charset=utf-8;base64,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\" style=\"position:absolute;width:100%;height:100%;left:0;top:0;border:none !important;\" allowfullscreen webkitallowfullscreen mozallowfullscreen></iframe></div></div>"
      ],
      "text/plain": [
       "<folium.folium.Map at 0x104dde350>"
      ]
     },
     "execution_count": 7,
     "metadata": {},
     "output_type": "execute_result"
    }
   ],
   "source": [
    "# ====== Create a FeatureGroup Layer ======\n",
    "marker_group = folium.FeatureGroup(name='Location Markers') \n",
    "\n",
    "# ============ Many options to choose from ===========\n",
    "# This is a bit of overkill, but gives an idea of what is possible\n",
    "\n",
    "# full list of colors\n",
    "l_colors = ['red', 'blue', 'green', 'purple', 'orange', 'darkred','lightred', 'beige', 'darkblue', \n",
    "            'darkgreen', 'cadetblue', 'darkpurple', 'white', 'pink', 'lightblue', 'lightgreen',\n",
    "            'gray', 'black', 'lightgray']\n",
    "\n",
    "# combining options from fontawesome and bootstrap\n",
    "l_icons = ['male', 'female', 'building' ] # from fa (fontawesome)\n",
    "l_icons +=['info-sign', 'fire', 'camera'] # from glyphicons (bootstrap)\n",
    "l_prefix = (['fa'] * 3) +  (['glyphicon'] * 3)\n",
    "\n",
    "# ====== Appending Markers to the FeatureGroup layer with customesed Icons ======\n",
    "i = -1\n",
    "for idx, row in df_.iterrows():\n",
    "    label = \"{} New York, NY \".format(idx) # we can label each label with popup \n",
    "    # ===== updating for each icon =======\n",
    "    i += 1\n",
    "    icon =  l_icons[i % len(l_icons)]\n",
    "    color = l_colors[i % len(l_colors)] # color of marker\n",
    "    icon_color = l_colors[3:17][i % len(l_colors)] # color of marker drawing\n",
    "    prefix = l_prefix[i % len(l_prefix)] #'glyphicon' #'fa'\n",
    "    # ====================================\n",
    "    icon = folium.Icon(icon=icon, prefix=prefix, color=color, icon_color=icon_color)\n",
    "    folium.Marker(row['latitude_longitude'], popup=label, icon=icon).add_to(marker_group)\n",
    "\n",
    "# ====== Create a map object, location and zoom ======\n",
    "map_ = folium.Map(location=(40.731, -73.997), zoom_start=17, control_scale=True)  # creating new map object\n",
    "\n",
    "map_.add_child(marker_group) # or: marker_group.add_to(map_)\n",
    "map_.add_child(folium.LayerControl(position='topleft', collapsed=True)) # adding Layer Control (optional)\n",
    "    \n",
    "map_"
   ]
  },
  {
   "cell_type": "markdown",
   "metadata": {},
   "source": [
    "For additional information on icons see this [Github page](https://github.com/lvoogdt/Leaflet.awesome-markers).   \n"
   ]
  },
  {
   "cell_type": "markdown",
   "metadata": {},
   "source": [
    "## Circles\n",
    "\n",
    "Instead of markers you can also mark locations with circles, either full or empty.  \n",
    "To display in units of meters use `folium.Circle`. For units of pixles use `folium.CircleMarker`."
   ]
  },
  {
   "cell_type": "code",
   "execution_count": 8,
   "metadata": {
    "ExecuteTime": {
     "end_time": "2018-03-13T10:53:06.448672Z",
     "start_time": "2018-03-13T10:53:06.238080Z"
    }
   },
   "outputs": [
    {
     "data": {
      "text/html": [
       "<div style=\"width:100%;\"><div style=\"position:relative;width:100%;height:0;padding-bottom:60%;\"><iframe src=\"data:text/html;charset=utf-8;base64,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\" style=\"position:absolute;width:100%;height:100%;left:0;top:0;border:none !important;\" allowfullscreen webkitallowfullscreen mozallowfullscreen></iframe></div></div>"
      ],
      "text/plain": [
       "<folium.folium.Map at 0x104f87090>"
      ]
     },
     "execution_count": 8,
     "metadata": {},
     "output_type": "execute_result"
    }
   ],
   "source": [
    "map_ = folium.Map(location=location, zoom_start=zoom_start, control_scale=True)  # creating new map object\n",
    "\n",
    "radius = 50\n",
    "\n",
    "# ========= In units of meters ============\n",
    "circle_name = 'my full circle in {} meters'.format(radius)\n",
    "circle_full = folium.Circle(location=location, radius=radius, fill_opacity=0.3, popup=circle_name, \n",
    "                            color='#3186cc',fill_color='#3186cc', fill=True)\n",
    "\n",
    "map_.add_child(circle_full) # or circle_full.add_to(map_)\n",
    "\n",
    "# ========= In units of pixels ============\n",
    "circle_name = 'my full circle in {} pixels'.format(radius)\n",
    "\n",
    "location2 = (location[0] + 0.0005, location[1] + 0.001)\n",
    "circle_full_pixels = folium.CircleMarker(location=location2, radius=radius, fill_opacity=0.3, popup=circle_name, \n",
    "                            color='#3186cc',fill_color='#3186cc', fill=True)\n",
    "\n",
    "map_.add_child(circle_full_pixels) # or circle_full_pixels.add_to(map_)\n",
    "# ==========================================\n",
    "\n",
    "map_"
   ]
  },
  {
   "cell_type": "markdown",
   "metadata": {},
   "source": [
    "Note: \n",
    "* Click on each circle to see the labels displayed  \n",
    "* Zoom out and notice that the meters circle gets smaller (remains 50 meters), where the pixel one remains the same size (50 pixels).  \n",
    "* `Circle`s and `CircleMarker`s may be added in `FeatureGroup` and  `MarkerCluster` in the same manner as `Marker`s.  \n",
    "\n",
    "Let's do the same but with empty circles around two points.  \n",
    "Here we also show how to bold-face the label name with JavaScript `<b>...</b>`, and enter more than one line with the break `<br>`.  "
   ]
  },
  {
   "cell_type": "code",
   "execution_count": 9,
   "metadata": {
    "ExecuteTime": {
     "end_time": "2018-03-13T10:53:06.845852Z",
     "start_time": "2018-03-13T10:53:06.453778Z"
    }
   },
   "outputs": [
    {
     "data": {
      "text/html": [
       "<div style=\"width:100%;\"><div style=\"position:relative;width:100%;height:0;padding-bottom:60%;\"><iframe src=\"data:text/html;charset=utf-8;base64,PCFET0NUWVBFIGh0bWw+CjxoZWFkPiAgICAKICAgIDxtZXRhIGh0dHAtZXF1aXY9ImNvbnRlbnQtdHlwZSIgY29udGVudD0idGV4dC9odG1sOyBjaGFyc2V0PVVURi04IiAvPgogICAgPHNjcmlwdD5MX1BSRUZFUl9DQU5WQVMgPSBmYWxzZTsgTF9OT19UT1VDSCA9IGZhbHNlOyBMX0RJU0FCTEVfM0QgPSBmYWxzZTs8L3NjcmlwdD4KICAgIDxzY3JpcHQgc3JjPSJodHRwczovL2Nkbi5qc2RlbGl2ci5uZXQvbnBtL2xlYWZsZXRAMS4yLjAvZGlzdC9sZWFmbGV0LmpzIj48L3NjcmlwdD4KICAgIDxzY3JpcHQgc3JjPSJodHRwczovL2FqYXguZ29vZ2xlYXBpcy5jb20vYWpheC9saWJzL2pxdWVyeS8xLjExLjEvanF1ZXJ5Lm1pbi5qcyI+PC9zY3JpcHQ+CiAgICA8c2NyaXB0IHNyYz0iaHR0cHM6Ly9tYXhjZG4uYm9vdHN0cmFwY2RuLmNvbS9ib290c3RyYXAvMy4yLjAvanMvYm9vdHN0cmFwLm1pbi5qcyI+PC9zY3JpcHQ+CiAgICA8c2NyaXB0IHNyYz0iaHR0cHM6Ly9jZG5qcy5jbG91ZGZsYXJlLmNvbS9hamF4L2xpYnMvTGVhZmxldC5hd2Vzb21lLW1hcmtlcnMvMi4wLjIvbGVhZmxldC5hd2Vzb21lLW1hcmtlcnMuanMiPjwvc2NyaXB0PgogICAgPGxpbmsgcmVsPSJzdHlsZXNoZWV0IiBocmVmPSJodHRwczovL2Nkbi5qc2RlbGl2ci5uZXQvbnBtL2xlYWZsZXRAMS4yLjAvZGlzdC9sZWFmbGV0LmNzcyIgLz4KICAgIDxsaW5rIHJlbD0ic3R5bGVzaGVldCIgaHJlZj0iaHR0cHM6Ly9tYXhjZG4uYm9vdHN0cmFwY2RuLmNvbS9ib290c3RyYXAvMy4yLjAvY3NzL2Jvb3RzdHJhcC5taW4uY3NzIiAvPgogICAgPGxpbmsgcmVsPSJzdHlsZXNoZWV0IiBocmVmPSJodHRwczovL21heGNkbi5ib290c3RyYXBjZG4uY29tL2Jvb3RzdHJhcC8zLjIuMC9jc3MvYm9vdHN0cmFwLXRoZW1lLm1pbi5jc3MiIC8+CiAgICA8bGluayByZWw9InN0eWxlc2hlZXQiIGhyZWY9Imh0dHBzOi8vbWF4Y2RuLmJvb3RzdHJhcGNkbi5jb20vZm9udC1hd2Vzb21lLzQuNi4zL2Nzcy9mb250LWF3ZXNvbWUubWluLmNzcyIgLz4KICAgIDxsaW5rIHJlbD0ic3R5bGVzaGVldCIgaHJlZj0iaHR0cHM6Ly9jZG5qcy5jbG91ZGZsYXJlLmNvbS9hamF4L2xpYnMvTGVhZmxldC5hd2Vzb21lLW1hcmtlcnMvMi4wLjIvbGVhZmxldC5hd2Vzb21lLW1hcmtlcnMuY3NzIiAvPgogICAgPGxpbmsgcmVsPSJzdHlsZXNoZWV0IiBocmVmPSJodHRwczovL3Jhd2dpdC5jb20vcHl0aG9uLXZpc3VhbGl6YXRpb24vZm9saXVtL21hc3Rlci9mb2xpdW0vdGVtcGxhdGVzL2xlYWZsZXQuYXdlc29tZS5yb3RhdGUuY3NzIiAvPgogICAgPHN0eWxlPmh0bWwsIGJvZHkge3dpZHRoOiAxMDAlO2hlaWdodDogMTAwJTttYXJnaW46IDA7cGFkZGluZzogMDt9PC9zdHlsZT4KICAgIDxzdHlsZT4jbWFwIHtwb3NpdGlvbjphYnNvbHV0ZTt0b3A6MDtib3R0b206MDtyaWdodDowO2xlZnQ6MDt9PC9zdHlsZT4KICAgIAogICAgICAgICAgICA8c3R5bGU+ICNtYXBfZGVlNWE4NWI0MDk5NDRlZDg5Yjk0NDQzOGVjYTBiOWIgewogICAgICAgICAgICAgICAgcG9zaXRpb24gOiByZWxhdGl2ZTsKICAgICAgICAgICAgICAgIHdpZHRoIDogMTAwLjAlOwogICAgICAgICAgICAgICAgaGVpZ2h0OiAxMDAuMCU7CiAgICAgICAgICAgICAgICBsZWZ0OiAwLjAlOwogICAgICAgICAgICAgICAgdG9wOiAwLjAlOwogICAgICAgICAgICAgICAgfQogICAgICAgICAgICA8L3N0eWxlPgogICAgICAgIAo8L2hlYWQ+Cjxib2R5PiAgICAKICAgIAogICAgICAgICAgICA8ZGl2IGNsYXNzPSJmb2xpdW0tbWFwIiBpZD0ibWFwX2RlZTVhODViNDA5OTQ0ZWQ4OWI5NDQ0MzhlY2EwYjliIiA+PC9kaXY+CiAgICAgICAgCjwvYm9keT4KPHNjcmlwdD4gICAgCiAgICAKCiAgICAgICAgICAgIAogICAgICAgICAgICAgICAgdmFyIGJvdW5kcyA9IG51bGw7CiAgICAgICAgICAgIAoKICAgICAgICAgICAgdmFyIG1hcF9kZWU1YTg1YjQwOTk0NGVkODliOTQ0NDM4ZWNhMGI5YiA9IEwubWFwKAogICAgICAgICAgICAgICAgICAgICAgICAgICAgICAgICAgJ21hcF9kZWU1YTg1YjQwOTk0NGVkODliOTQ0NDM4ZWNhMGI5YicsCiAgICAgICAgICAgICAgICAgICAgICAgICAgICAgICAgICB7Y2VudGVyOiBbNDAuNzI5MTgzLC03My45OTQyNjNdLAogICAgICAgICAgICAgICAgICAgICAgICAgICAgICAgICAgem9vbTogMTgsCiAgICAgICAgICAgICAgICAgICAgICAgICAgICAgICAgICBtYXhCb3VuZHM6IGJvdW5kcywKICAgICAgICAgICAgICAgICAgICAgICAgICAgICAgICAgIGxheWVyczogW10sCiAgICAgICAgICAgICAgICAgICAgICAgICAgICAgICAgICB3b3JsZENvcHlKdW1wOiBmYWxzZSwKICAgICAgICAgICAgICAgICAgICAgICAgICAgICAgICAgIGNyczogTC5DUlMuRVBTRzM4NTcKICAgICAgICAgICAgICAgICAgICAgICAgICAgICAgICAgfSk7CiAgICAgICAgICAgIEwuY29udHJvbC5zY2FsZSgpLmFkZFRvKG1hcF9kZWU1YTg1YjQwOTk0NGVkODliOTQ0NDM4ZWNhMGI5Yik7CiAgICAgICAgCiAgICAKICAgICAgICAgICAgdmFyIHRpbGVfbGF5ZXJfZGQ0MjllZDRiNWU3NDQ2MDg3ZGQ5MzYxZmU4MWY0ZmMgPSBMLnRpbGVMYXllcigKICAgICAgICAgICAgICAgICdodHRwczovL3tzfS50aWxlLm9wZW5zdHJlZXRtYXAub3JnL3t6fS97eH0ve3l9LnBuZycsCiAgICAgICAgICAgICAgICB7CiAgImF0dHJpYnV0aW9uIjogbnVsbCwgCiAgImRldGVjdFJldGluYSI6IGZhbHNlLCAKICAibWF4Wm9vbSI6IDE4LCAKICAibWluWm9vbSI6IDEsIAogICJub1dyYXAiOiBmYWxzZSwgCiAgInN1YmRvbWFpbnMiOiAiYWJjIgp9CiAgICAgICAgICAgICAgICApLmFkZFRvKG1hcF9kZWU1YTg1YjQwOTk0NGVkODliOTQ0NDM4ZWNhMGI5Yik7CiAgICAgICAgCiAgICAKCiAgICAgICAgICAgIHZhciBjaXJjbGVfZTVkYjIwMmVlMzFjNDBjMGFiMDBlZDY1Y2UwNmIyMTkgPSBMLmNpcmNsZSgKICAgICAgICAgICAgICAgIFs0MC43MjkwMjA0LC03My45OTQyODQzXSwKICAgICAgICAgICAgICAgIHsKICAiYnViYmxpbmdNb3VzZUV2ZW50cyI6IHRydWUsIAogICJjb2xvciI6ICIjMzE4NmNjIiwgCiAgImRhc2hBcnJheSI6IG51bGwsIAogICJkYXNoT2Zmc2V0IjogbnVsbCwgCiAgImZpbGwiOiBmYWxzZSwgCiAgImZpbGxDb2xvciI6ICIjMzE4NmNjIiwgCiAgImZpbGxPcGFjaXR5IjogMC4zLCAKICAiZmlsbFJ1bGUiOiAiZXZlbm9kZCIsIAogICJsaW5lQ2FwIjogInJvdW5kIiwgCiAgImxpbmVKb2luIjogInJvdW5kIiwgCiAgIm9wYWNpdHkiOiAxLjAsIAogICJyYWRpdXMiOiAxMi41LCAKICAic3Ryb2tlIjogdHJ1ZSwgCiAgIndlaWdodCI6IDMKfQogICAgICAgICAgICAgICAgKS5hZGRUbyhtYXBfZGVlNWE4NWI0MDk5NDRlZDg5Yjk0NDQzOGVjYTBiOWIpOwogICAgICAgICAgICAKICAgIAogICAgICAgICAgICB2YXIgcG9wdXBfNjNlOTFjYzcxNjE3NDliYmJkOTg5YmFmNDY1ZGZkMzggPSBMLnBvcHVwKHttYXhXaWR0aDogJzMwMCd9KTsKCiAgICAgICAgICAgIAogICAgICAgICAgICAgICAgdmFyIGh0bWxfNDVkMmQ0YWI0ZWZlNDE5ZmE1MjI0YjBkMzMzNGM3MzUgPSAkKCc8ZGl2IGlkPSJodG1sXzQ1ZDJkNGFiNGVmZTQxOWZhNTIyNGIwZDMzMzRjNzM1IiBzdHlsZT0id2lkdGg6IDEwMC4wJTsgaGVpZ2h0OiAxMDAuMCU7Ij48Yj40IFdhc2hpbmd0b24gUGxhY2UgTmV3IFlvcmssIE5ZPC9iPjxicj4xMi41IG1ldGVyczwvZGl2PicpWzBdOwogICAgICAgICAgICAgICAgcG9wdXBfNjNlOTFjYzcxNjE3NDliYmJkOTg5YmFmNDY1ZGZkMzguc2V0Q29udGVudChodG1sXzQ1ZDJkNGFiNGVmZTQxOWZhNTIyNGIwZDMzMzRjNzM1KTsKICAgICAgICAgICAgCgogICAgICAgICAgICBjaXJjbGVfZTVkYjIwMmVlMzFjNDBjMGFiMDBlZDY1Y2UwNmIyMTkuYmluZFBvcHVwKHBvcHVwXzYzZTkxY2M3MTYxNzQ5YmJiZDk4OWJhZjQ2NWRmZDM4KTsKCiAgICAgICAgICAgIAogICAgICAgIAogICAgCgogICAgICAgICAgICB2YXIgY2lyY2xlXzEyNTYwZTBkMTNlODQwOTE4MzhhMGNlY2Y0MWYzOWEwID0gTC5jaXJjbGUoCiAgICAgICAgICAgICAgICBbNDAuNzI5MDIwNCwtNzMuOTk0Mjg0M10sCiAgICAgICAgICAgICAgICB7CiAgImJ1YmJsaW5nTW91c2VFdmVudHMiOiB0cnVlLCAKICAiY29sb3IiOiAiIzMxODZjYyIsIAogICJkYXNoQXJyYXkiOiBudWxsLCAKICAiZGFzaE9mZnNldCI6IG51bGwsIAogICJmaWxsIjogZmFsc2UsIAogICJmaWxsQ29sb3IiOiAiIzMxODZjYyIsIAogICJmaWxsT3BhY2l0eSI6IDAuMywgCiAgImZpbGxSdWxlIjogImV2ZW5vZGQiLCAKICAibGluZUNhcCI6ICJyb3VuZCIsIAogICJsaW5lSm9pbiI6ICJyb3VuZCIsIAogICJvcGFjaXR5IjogMS4wLCAKICAicmFkaXVzIjogMjUuMCwgCiAgInN0cm9rZSI6IHRydWUsIAogICJ3ZWlnaHQiOiAzCn0KICAgICAgICAgICAgICAgICkuYWRkVG8obWFwX2RlZTVhODViNDA5OTQ0ZWQ4OWI5NDQ0MzhlY2EwYjliKTsKICAgICAgICAgICAgCiAgICAKICAgICAgICAgICAgdmFyIHBvcHVwX2Q1MDM4MzIxZDAwYTRiYTM4YmZiZjZjN2NkYjhkY2UxID0gTC5wb3B1cCh7bWF4V2lkdGg6ICczMDAnfSk7CgogICAgICAgICAgICAKICAgICAgICAgICAgICAgIHZhciBodG1sXzYzYTE1ZGVlZDM0YjQ5ZTc4OGU2MWQ0YjQxNTUwZjIxID0gJCgnPGRpdiBpZD0iaHRtbF82M2ExNWRlZWQzNGI0OWU3ODhlNjFkNGI0MTU1MGYyMSIgc3R5bGU9IndpZHRoOiAxMDAuMCU7IGhlaWdodDogMTAwLjAlOyI+PGI+NCBXYXNoaW5ndG9uIFBsYWNlIE5ldyBZb3JrLCBOWTwvYj48YnI+MjUuMCBtZXRlcnM8L2Rpdj4nKVswXTsKICAgICAgICAgICAgICAgIHBvcHVwX2Q1MDM4MzIxZDAwYTRiYTM4YmZiZjZjN2NkYjhkY2UxLnNldENvbnRlbnQoaHRtbF82M2ExNWRlZWQzNGI0OWU3ODhlNjFkNGI0MTU1MGYyMSk7CiAgICAgICAgICAgIAoKICAgICAgICAgICAgY2lyY2xlXzEyNTYwZTBkMTNlODQwOTE4MzhhMGNlY2Y0MWYzOWEwLmJpbmRQb3B1cChwb3B1cF9kNTAzODMyMWQwMGE0YmEzOGJmYmY2YzdjZGI4ZGNlMSk7CgogICAgICAgICAgICAKICAgICAgICAKICAgIAoKICAgICAgICAgICAgdmFyIGNpcmNsZV9iMDhmZTAyZmYxNjU0N2Y3YWIzNWY4YWFkZDZhODJhNCA9IEwuY2lyY2xlKAogICAgICAgICAgICAgICAgWzQwLjcyOTAyMDQsLTczLjk5NDI4NDNdLAogICAgICAgICAgICAgICAgewogICJidWJibGluZ01vdXNlRXZlbnRzIjogdHJ1ZSwgCiAgImNvbG9yIjogIiMzMTg2Y2MiLCAKICAiZGFzaEFycmF5IjogbnVsbCwgCiAgImRhc2hPZmZzZXQiOiBudWxsLCAKICAiZmlsbCI6IGZhbHNlLCAKICAiZmlsbENvbG9yIjogIiMzMTg2Y2MiLCAKICAiZmlsbE9wYWNpdHkiOiAwLjMsIAogICJmaWxsUnVsZSI6ICJldmVub2RkIiwgCiAgImxpbmVDYXAiOiAicm91bmQiLCAKICAibGluZUpvaW4iOiAicm91bmQiLCAKICAib3BhY2l0eSI6IDEuMCwgCiAgInJhZGl1cyI6IDM3LjUsIAogICJzdHJva2UiOiB0cnVlLCAKICAid2VpZ2h0IjogMwp9CiAgICAgICAgICAgICAgICApLmFkZFRvKG1hcF9kZWU1YTg1YjQwOTk0NGVkODliOTQ0NDM4ZWNhMGI5Yik7CiAgICAgICAgICAgIAogICAgCiAgICAgICAgICAgIHZhciBwb3B1cF85ZjkzNzdiMjIyYWE0OTY3OWE4YzcwNGUzZDc1ZTZlNSA9IEwucG9wdXAoe21heFdpZHRoOiAnMzAwJ30pOwoKICAgICAgICAgICAgCiAgICAgICAgICAgICAgICB2YXIgaHRtbF83ZTk1M2JjOWQ5ODk0M2NlYmM2OTg5Y2JjN2FlM2Y5NiA9ICQoJzxkaXYgaWQ9Imh0bWxfN2U5NTNiYzlkOTg5NDNjZWJjNjk4OWNiYzdhZTNmOTYiIHN0eWxlPSJ3aWR0aDogMTAwLjAlOyBoZWlnaHQ6IDEwMC4wJTsiPjxiPjQgV2FzaGluZ3RvbiBQbGFjZSBOZXcgWW9yaywgTlk8L2I+PGJyPjM3LjUgbWV0ZXJzPC9kaXY+JylbMF07CiAgICAgICAgICAgICAgICBwb3B1cF85ZjkzNzdiMjIyYWE0OTY3OWE4YzcwNGUzZDc1ZTZlNS5zZXRDb250ZW50KGh0bWxfN2U5NTNiYzlkOTg5NDNjZWJjNjk4OWNiYzdhZTNmOTYpOwogICAgICAgICAgICAKCiAgICAgICAgICAgIGNpcmNsZV9iMDhmZTAyZmYxNjU0N2Y3YWIzNWY4YWFkZDZhODJhNC5iaW5kUG9wdXAocG9wdXBfOWY5Mzc3YjIyMmFhNDk2NzlhOGM3MDRlM2Q3NWU2ZTUpOwoKICAgICAgICAgICAgCiAgICAgICAgCiAgICAKCiAgICAgICAgICAgIHZhciBjaXJjbGVfY2UxYWFmNjFkMmUyNDUwYWIyNmU2NzAxNzljYTg3YTAgPSBMLmNpcmNsZSgKICAgICAgICAgICAgICAgIFs0MC43MjkwMjA0LC03My45OTQyODQzXSwKICAgICAgICAgICAgICAgIHsKICAiYnViYmxpbmdNb3VzZUV2ZW50cyI6IHRydWUsIAogICJjb2xvciI6ICIjMzE4NmNjIiwgCiAgImRhc2hBcnJheSI6IG51bGwsIAogICJkYXNoT2Zmc2V0IjogbnVsbCwgCiAgImZpbGwiOiBmYWxzZSwgCiAgImZpbGxDb2xvciI6ICIjMzE4NmNjIiwgCiAgImZpbGxPcGFjaXR5IjogMC4zLCAKICAiZmlsbFJ1bGUiOiAiZXZlbm9kZCIsIAogICJsaW5lQ2FwIjogInJvdW5kIiwgCiAgImxpbmVKb2luIjogInJvdW5kIiwgCiAgIm9wYWNpdHkiOiAxLjAsIAogICJyYWRpdXMiOiA1MC4wLCAKICAic3Ryb2tlIjogdHJ1ZSwgCiAgIndlaWdodCI6IDMKfQogICAgICAgICAgICAgICAgKS5hZGRUbyhtYXBfZGVlNWE4NWI0MDk5NDRlZDg5Yjk0NDQzOGVjYTBiOWIpOwogICAgICAgICAgICAKICAgIAogICAgICAgICAgICB2YXIgcG9wdXBfMWZlOWJjMzU3ZjMxNDk5MjkxOTk1MzVmYWQ1NzAxZDAgPSBMLnBvcHVwKHttYXhXaWR0aDogJzMwMCd9KTsKCiAgICAgICAgICAgIAogICAgICAgICAgICAgICAgdmFyIGh0bWxfNTc2Y2M4MzgxOWEyNDJlOWFhN2I2OGY2MzBlYmFkN2UgPSAkKCc8ZGl2IGlkPSJodG1sXzU3NmNjODM4MTlhMjQyZTlhYTdiNjhmNjMwZWJhZDdlIiBzdHlsZT0id2lkdGg6IDEwMC4wJTsgaGVpZ2h0OiAxMDAuMCU7Ij48Yj40IFdhc2hpbmd0b24gUGxhY2UgTmV3IFlvcmssIE5ZPC9iPjxicj41MC4wIG1ldGVyczwvZGl2PicpWzBdOwogICAgICAgICAgICAgICAgcG9wdXBfMWZlOWJjMzU3ZjMxNDk5MjkxOTk1MzVmYWQ1NzAxZDAuc2V0Q29udGVudChodG1sXzU3NmNjODM4MTlhMjQyZTlhYTdiNjhmNjMwZWJhZDdlKTsKICAgICAgICAgICAgCgogICAgICAgICAgICBjaXJjbGVfY2UxYWFmNjFkMmUyNDUwYWIyNmU2NzAxNzljYTg3YTAuYmluZFBvcHVwKHBvcHVwXzFmZTliYzM1N2YzMTQ5OTI5MTk5NTM1ZmFkNTcwMWQwKTsKCiAgICAgICAgICAgIAogICAgICAgIAogICAgCgogICAgICAgICAgICB2YXIgY2lyY2xlX2M5MjgzM2JkZWFmNzQxZTI5Y2UyOGMyMjE1Nzc4YjFkID0gTC5jaXJjbGUoCiAgICAgICAgICAgICAgICBbNDAuNzMwMDY1NCwtNzMuOTk1ODc1NV0sCiAgICAgICAgICAgICAgICB7CiAgImJ1YmJsaW5nTW91c2VFdmVudHMiOiB0cnVlLCAKICAiY29sb3IiOiAiIzMxODZjYyIsIAogICJkYXNoQXJyYXkiOiBudWxsLCAKICAiZGFzaE9mZnNldCI6IG51bGwsIAogICJmaWxsIjogZmFsc2UsIAogICJmaWxsQ29sb3IiOiAiIzMxODZjYyIsIAogICJmaWxsT3BhY2l0eSI6IDAuMywgCiAgImZpbGxSdWxlIjogImV2ZW5vZGQiLCAKICAibGluZUNhcCI6ICJyb3VuZCIsIAogICJsaW5lSm9pbiI6ICJyb3VuZCIsIAogICJvcGFjaXR5IjogMS4wLCAKICAicmFkaXVzIjogMTIuNSwgCiAgInN0cm9rZSI6IHRydWUsIAogICJ3ZWlnaHQiOiAzCn0KICAgICAgICAgICAgICAgICkuYWRkVG8obWFwX2RlZTVhODViNDA5OTQ0ZWQ4OWI5NDQ0MzhlY2EwYjliKTsKICAgICAgICAgICAgCiAgICAKICAgICAgICAgICAgdmFyIHBvcHVwXzQwZjJkMTlhZjc2NTQ1N2NiYzdkNGU1NTBhN2QyNTkyID0gTC5wb3B1cCh7bWF4V2lkdGg6ICczMDAnfSk7CgogICAgICAgICAgICAKICAgICAgICAgICAgICAgIHZhciBodG1sXzdmNjY0NTU0ZGMwMDRhOWNhZWVkZDU0ZWZjNzBmNzUwID0gJCgnPGRpdiBpZD0iaHRtbF83ZjY2NDU1NGRjMDA0YTljYWVlZGQ1NGVmYzcwZjc1MCIgc3R5bGU9IndpZHRoOiAxMDAuMCU7IGhlaWdodDogMTAwLjAlOyI+PGI+NDAgV2FzaGluZ3RvbiBQbGFjZSBOZXcgWW9yaywgTlk8L2I+PGJyPjEyLjUgbWV0ZXJzPC9kaXY+JylbMF07CiAgICAgICAgICAgICAgICBwb3B1cF80MGYyZDE5YWY3NjU0NTdjYmM3ZDRlNTUwYTdkMjU5Mi5zZXRDb250ZW50KGh0bWxfN2Y2NjQ1NTRkYzAwNGE5Y2FlZWRkNTRlZmM3MGY3NTApOwogICAgICAgICAgICAKCiAgICAgICAgICAgIGNpcmNsZV9jOTI4MzNiZGVhZjc0MWUyOWNlMjhjMjIxNTc3OGIxZC5iaW5kUG9wdXAocG9wdXBfNDBmMmQxOWFmNzY1NDU3Y2JjN2Q0ZTU1MGE3ZDI1OTIpOwoKICAgICAgICAgICAgCiAgICAgICAgCiAgICAKCiAgICAgICAgICAgIHZhciBjaXJjbGVfZTQzMTBhYmY2ZGZhNGYzZWExYjk5OTczZjFmMjM0MmMgPSBMLmNpcmNsZSgKICAgICAgICAgICAgICAgIFs0MC43MzAwNjU0LC03My45OTU4NzU1XSwKICAgICAgICAgICAgICAgIHsKICAiYnViYmxpbmdNb3VzZUV2ZW50cyI6IHRydWUsIAogICJjb2xvciI6ICIjMzE4NmNjIiwgCiAgImRhc2hBcnJheSI6IG51bGwsIAogICJkYXNoT2Zmc2V0IjogbnVsbCwgCiAgImZpbGwiOiBmYWxzZSwgCiAgImZpbGxDb2xvciI6ICIjMzE4NmNjIiwgCiAgImZpbGxPcGFjaXR5IjogMC4zLCAKICAiZmlsbFJ1bGUiOiAiZXZlbm9kZCIsIAogICJsaW5lQ2FwIjogInJvdW5kIiwgCiAgImxpbmVKb2luIjogInJvdW5kIiwgCiAgIm9wYWNpdHkiOiAxLjAsIAogICJyYWRpdXMiOiAyNS4wLCAKICAic3Ryb2tlIjogdHJ1ZSwgCiAgIndlaWdodCI6IDMKfQogICAgICAgICAgICAgICAgKS5hZGRUbyhtYXBfZGVlNWE4NWI0MDk5NDRlZDg5Yjk0NDQzOGVjYTBiOWIpOwogICAgICAgICAgICAKICAgIAogICAgICAgICAgICB2YXIgcG9wdXBfMDcxZDhkMTk1NmNlNGFlOGJkZGExNjE4NGQyMWJhZTQgPSBMLnBvcHVwKHttYXhXaWR0aDogJzMwMCd9KTsKCiAgICAgICAgICAgIAogICAgICAgICAgICAgICAgdmFyIGh0bWxfMzBmOTM4NDAwODQ2NDgyM2FmMjFhNDIwN2Q4MWY3YzUgPSAkKCc8ZGl2IGlkPSJodG1sXzMwZjkzODQwMDg0NjQ4MjNhZjIxYTQyMDdkODFmN2M1IiBzdHlsZT0id2lkdGg6IDEwMC4wJTsgaGVpZ2h0OiAxMDAuMCU7Ij48Yj40MCBXYXNoaW5ndG9uIFBsYWNlIE5ldyBZb3JrLCBOWTwvYj48YnI+MjUuMCBtZXRlcnM8L2Rpdj4nKVswXTsKICAgICAgICAgICAgICAgIHBvcHVwXzA3MWQ4ZDE5NTZjZTRhZThiZGRhMTYxODRkMjFiYWU0LnNldENvbnRlbnQoaHRtbF8zMGY5Mzg0MDA4NDY0ODIzYWYyMWE0MjA3ZDgxZjdjNSk7CiAgICAgICAgICAgIAoKICAgICAgICAgICAgY2lyY2xlX2U0MzEwYWJmNmRmYTRmM2VhMWI5OTk3M2YxZjIzNDJjLmJpbmRQb3B1cChwb3B1cF8wNzFkOGQxOTU2Y2U0YWU4YmRkYTE2MTg0ZDIxYmFlNCk7CgogICAgICAgICAgICAKICAgICAgICAKICAgIAoKICAgICAgICAgICAgdmFyIGNpcmNsZV9kYzY2MjFlODIyYmI0ZGEyYmY3NzUyYzMyMzMwNWVmZCA9IEwuY2lyY2xlKAogICAgICAgICAgICAgICAgWzQwLjczMDA2NTQsLTczLjk5NTg3NTVdLAogICAgICAgICAgICAgICAgewogICJidWJibGluZ01vdXNlRXZlbnRzIjogdHJ1ZSwgCiAgImNvbG9yIjogIiMzMTg2Y2MiLCAKICAiZGFzaEFycmF5IjogbnVsbCwgCiAgImRhc2hPZmZzZXQiOiBudWxsLCAKICAiZmlsbCI6IGZhbHNlLCAKICAiZmlsbENvbG9yIjogIiMzMTg2Y2MiLCAKICAiZmlsbE9wYWNpdHkiOiAwLjMsIAogICJmaWxsUnVsZSI6ICJldmVub2RkIiwgCiAgImxpbmVDYXAiOiAicm91bmQiLCAKICAibGluZUpvaW4iOiAicm91bmQiLCAKICAib3BhY2l0eSI6IDEuMCwgCiAgInJhZGl1cyI6IDM3LjUsIAogICJzdHJva2UiOiB0cnVlLCAKICAid2VpZ2h0IjogMwp9CiAgICAgICAgICAgICAgICApLmFkZFRvKG1hcF9kZWU1YTg1YjQwOTk0NGVkODliOTQ0NDM4ZWNhMGI5Yik7CiAgICAgICAgICAgIAogICAgCiAgICAgICAgICAgIHZhciBwb3B1cF9iNzQ2ZDEwNDY3MDI0YTRkYWNiZDEzNGU2MDUwMmRlNCA9IEwucG9wdXAoe21heFdpZHRoOiAnMzAwJ30pOwoKICAgICAgICAgICAgCiAgICAgICAgICAgICAgICB2YXIgaHRtbF8zNGU4OTkzZTZiYjg0MGZkOTlkYTEzZjU5MGRkYjg3ZSA9ICQoJzxkaXYgaWQ9Imh0bWxfMzRlODk5M2U2YmI4NDBmZDk5ZGExM2Y1OTBkZGI4N2UiIHN0eWxlPSJ3aWR0aDogMTAwLjAlOyBoZWlnaHQ6IDEwMC4wJTsiPjxiPjQwIFdhc2hpbmd0b24gUGxhY2UgTmV3IFlvcmssIE5ZPC9iPjxicj4zNy41IG1ldGVyczwvZGl2PicpWzBdOwogICAgICAgICAgICAgICAgcG9wdXBfYjc0NmQxMDQ2NzAyNGE0ZGFjYmQxMzRlNjA1MDJkZTQuc2V0Q29udGVudChodG1sXzM0ZTg5OTNlNmJiODQwZmQ5OWRhMTNmNTkwZGRiODdlKTsKICAgICAgICAgICAgCgogICAgICAgICAgICBjaXJjbGVfZGM2NjIxZTgyMmJiNGRhMmJmNzc1MmMzMjMzMDVlZmQuYmluZFBvcHVwKHBvcHVwX2I3NDZkMTA0NjcwMjRhNGRhY2JkMTM0ZTYwNTAyZGU0KTsKCiAgICAgICAgICAgIAogICAgICAgIAogICAgCgogICAgICAgICAgICB2YXIgY2lyY2xlX2NkYzMzYmQ1YTgzYTRlN2M4YzEzYzZhYjIzZDQxODFkID0gTC5jaXJjbGUoCiAgICAgICAgICAgICAgICBbNDAuNzMwMDY1NCwtNzMuOTk1ODc1NV0sCiAgICAgICAgICAgICAgICB7CiAgImJ1YmJsaW5nTW91c2VFdmVudHMiOiB0cnVlLCAKICAiY29sb3IiOiAiIzMxODZjYyIsIAogICJkYXNoQXJyYXkiOiBudWxsLCAKICAiZGFzaE9mZnNldCI6IG51bGwsIAogICJmaWxsIjogZmFsc2UsIAogICJmaWxsQ29sb3IiOiAiIzMxODZjYyIsIAogICJmaWxsT3BhY2l0eSI6IDAuMywgCiAgImZpbGxSdWxlIjogImV2ZW5vZGQiLCAKICAibGluZUNhcCI6ICJyb3VuZCIsIAogICJsaW5lSm9pbiI6ICJyb3VuZCIsIAogICJvcGFjaXR5IjogMS4wLCAKICAicmFkaXVzIjogNTAuMCwgCiAgInN0cm9rZSI6IHRydWUsIAogICJ3ZWlnaHQiOiAzCn0KICAgICAgICAgICAgICAgICkuYWRkVG8obWFwX2RlZTVhODViNDA5OTQ0ZWQ4OWI5NDQ0MzhlY2EwYjliKTsKICAgICAgICAgICAgCiAgICAKICAgICAgICAgICAgdmFyIHBvcHVwXzY4ZjdmYzZlNTQ2ZjRlOWQ4NDZmODIzZDg4OTMzYWQxID0gTC5wb3B1cCh7bWF4V2lkdGg6ICczMDAnfSk7CgogICAgICAgICAgICAKICAgICAgICAgICAgICAgIHZhciBodG1sXzNlZWFiNDE3ZTRkNDQyZGViNWZkZTJjMzNkMmFmZmQ3ID0gJCgnPGRpdiBpZD0iaHRtbF8zZWVhYjQxN2U0ZDQ0MmRlYjVmZGUyYzMzZDJhZmZkNyIgc3R5bGU9IndpZHRoOiAxMDAuMCU7IGhlaWdodDogMTAwLjAlOyI+PGI+NDAgV2FzaGluZ3RvbiBQbGFjZSBOZXcgWW9yaywgTlk8L2I+PGJyPjUwLjAgbWV0ZXJzPC9kaXY+JylbMF07CiAgICAgICAgICAgICAgICBwb3B1cF82OGY3ZmM2ZTU0NmY0ZTlkODQ2ZjgyM2Q4ODkzM2FkMS5zZXRDb250ZW50KGh0bWxfM2VlYWI0MTdlNGQ0NDJkZWI1ZmRlMmMzM2QyYWZmZDcpOwogICAgICAgICAgICAKCiAgICAgICAgICAgIGNpcmNsZV9jZGMzM2JkNWE4M2E0ZTdjOGMxM2M2YWIyM2Q0MTgxZC5iaW5kUG9wdXAocG9wdXBfNjhmN2ZjNmU1NDZmNGU5ZDg0NmY4MjNkODg5MzNhZDEpOwoKICAgICAgICAgICAgCiAgICAgICAgCjwvc2NyaXB0Pg==\" style=\"position:absolute;width:100%;height:100%;left:0;top:0;border:none !important;\" allowfullscreen webkitallowfullscreen mozallowfullscreen></iframe></div></div>"
      ],
      "text/plain": [
       "<folium.folium.Map at 0x104f72bd0>"
      ]
     },
     "execution_count": 9,
     "metadata": {},
     "output_type": "execute_result"
    }
   ],
   "source": [
    "radius_fracs = [0.25, 0.5, 0.75, 1.]\n",
    "\n",
    "center_latitude, center_longitude = 40.729183, -73.994263\n",
    "location = (center_latitude, center_longitude)\n",
    "map_ = folium.Map(location=location, zoom_start=zoom_start, control_scale=True)  # creating new map object\n",
    "\n",
    "for idx, row in df_.iloc[[0, 6]].iterrows(): # looping over locations (choosing two- index location 0 and 6)\n",
    "    for frac in radius_fracs: # looping over the radius factions\n",
    "        radius_temp = radius * frac\n",
    "        name = \"<b>{} New York, NY</b><br>{:0.1f} meters\".format(idx, radius_temp)\n",
    "        folium.Circle(location=row['latitude_longitude'], radius=radius_temp, fill_opacity=0.3, popup=name, \n",
    "                             color='#3186cc',fill_color='#3186cc', fill=False).add_to(map_)\n",
    "\n",
    "map_"
   ]
  },
  {
   "cell_type": "markdown",
   "metadata": {
    "hide_input": true
   },
   "source": [
    "Note: Click on any circle to see the label result (two lines where the title is boldfaced).  "
   ]
  },
  {
   "cell_type": "markdown",
   "metadata": {},
   "source": [
    "## `FastMarkerCluster`   \n",
    "\n",
    "One should be cautious of a crucial limitation of our use so far of `Marker`s and `Circle`s - the size of the map increases linearly with the number of objects. (See image below.)    \n",
    "We calculate the gradient to be roughly 1 kByte in size for each geo-location.  This means that 1,000 markers will quickly bring the size of the map up to 1 MByte (on HTML or rendered in a notebook).  \n",
    "\n",
    "![title](../img/folium_htmlSizes.png)  \n",
    "\n",
    "The main reason that the `FeatureGroup` and  `MarkerCluster` layers are expensive is that they require a loop in which code is rendered for each geo-location.    \n",
    "\n",
    "An alternative approach is using `folium.plugins.FastMarkerCluster` which is similar to `MarkerCluster` but stores the logic of the layer without needing to render each geo-location as a separate Javascript code. The advantage of this is smaller space per geo-location. We estimate this to be 40 Bytes, (not kBytes!) which suggests that a 1Mbyte map may contain 25,000 geo points. In the figure above we show that map sizes using `FastMarkerCluster` to be similar to that expected with `HeatMap` (discussed in part 3). The disadvantage of `FastMarkerCluster` compared to `MarkerCluster` is less lack flexiblity, i.e, less features. E.g, all markers must get the same icon.  \n",
    "\n",
    "As demonstrated below `FastMarkerCluster` accepts data as a list of lists (or list of tuples)  \n",
    "and `callback`, a string Javascript function, for styling the icon (here we use FontAwesome's `shopping-cart`). For the default icon set `callback=None`.   "
   ]
  },
  {
   "cell_type": "code",
   "execution_count": 10,
   "metadata": {
    "ExecuteTime": {
     "end_time": "2018-03-13T10:53:07.003927Z",
     "start_time": "2018-03-13T10:53:06.851432Z"
    }
   },
   "outputs": [
    {
     "data": {
      "text/html": [
       "<div style=\"width:100%;\"><div style=\"position:relative;width:100%;height:0;padding-bottom:60%;\"><iframe src=\"data:text/html;charset=utf-8;base64,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\" style=\"position:absolute;width:100%;height:100%;left:0;top:0;border:none !important;\" allowfullscreen webkitallowfullscreen mozallowfullscreen></iframe></div></div>"
      ],
      "text/plain": [
       "<folium.folium.Map at 0x105077150>"
      ]
     },
     "execution_count": 10,
     "metadata": {},
     "output_type": "execute_result"
    }
   ],
   "source": [
    "# ====== Create a map object, location and zoom ======\n",
    "center_latitude, center_longitude =  40.731654, -73.9995196\n",
    "location = (center_latitude, center_longitude)\n",
    "zoom_start = 18\n",
    "\n",
    "map_ = folium.Map(location=location, zoom_start=zoom_start, control_scale=True) \n",
    "\n",
    "# ====== Design the icon ======\n",
    "# for default icon set: callback = None\n",
    "\n",
    "callback = \"\"\"\\\n",
    "function (row) {\n",
    "    var icon, marker;\n",
    "    icon = L.AwesomeMarkers.icon({icon: \"shopping-cart\", markerColor: \"red\"});\n",
    "    marker = L.marker(new L.LatLng(row[0], row[1]));\n",
    "    marker.setIcon(icon);\n",
    "    return marker;\n",
    "};\n",
    "\"\"\"\n",
    "\n",
    "# ====== Add FastMarkerCluster to the map ======\n",
    "plugins.FastMarkerCluster(df_['latitude_longitude'].tolist(), callback=callback).add_to(map_)\n",
    "\n",
    "# ====== Display ======\n",
    "# map_.save('my_map.html') # (alternatively create an HTML)\n",
    "\n",
    "map_"
   ]
  },
  {
   "cell_type": "markdown",
   "metadata": {
    "ExecuteTime": {
     "end_time": "2018-03-12T13:33:09.705006Z",
     "start_time": "2018-03-12T13:33:09.697950Z"
    }
   },
   "source": [
    "For full details in regards to the Leaflet markercluster see their [Github page](https://github.com/Leaflet/Leaflet.markercluster).    "
   ]
  },
  {
   "cell_type": "markdown",
   "metadata": {},
   "source": [
    "## Summary\n",
    "\n",
    "In this second part of our three part series we explored putting markers and circles on a map, and grouping them to a layer, which is useful mostly when zooming in to a map.  We also showed that the clustering features is useful when zooming out.  \n",
    "\n",
    "We also pointed out pros and cons between different methods of aggregating geo-points. Whereas `FastMarkerCluster` requires less HTML code per geo-point, `MarkerCluster` is much richer in terms of features available.  Hence, we consider using Folium useful as a \"quick and dirty\" tool to display data analysed in Python. For production and scalibility we suggest exploring Leaflet in general, or other platforms to create maps.    \n",
    "\n",
    "In the third and final part we explain how to quickly create heatmaps and choropleths.  \n"
   ]
  }
 ],
 "metadata": {
  "kernelspec": {
   "display_name": "Python 2",
   "language": "python",
   "name": "python2"
  },
  "language_info": {
   "codemirror_mode": {
    "name": "ipython",
    "version": 2
   },
   "file_extension": ".py",
   "mimetype": "text/x-python",
   "name": "python",
   "nbconvert_exporter": "python",
   "pygments_lexer": "ipython2",
   "version": "2.7.8"
  },
  "toc": {
   "colors": {
    "hover_highlight": "#DAA520",
    "running_highlight": "#FF0000",
    "selected_highlight": "#FFD700"
   },
   "moveMenuLeft": true,
   "nav_menu": {
    "height": "153px",
    "width": "252px"
   },
   "navigate_menu": true,
   "number_sections": true,
   "sideBar": true,
   "threshold": 4,
   "toc_cell": false,
   "toc_position": {
    "height": "963px",
    "left": "0px",
    "right": "1470.74px",
    "top": "110px",
    "width": "212px"
   },
   "toc_section_display": "block",
   "toc_window_display": true,
   "widenNotebook": false
  }
 },
 "nbformat": 4,
 "nbformat_minor": 2
}
