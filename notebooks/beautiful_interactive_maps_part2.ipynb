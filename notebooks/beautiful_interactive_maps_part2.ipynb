{
 "cells": [
  {
   "cell_type": "markdown",
   "metadata": {},
   "source": [
    "# Python Tutorial: Quickly Make Beautiful Interactive Maps - Zoom In\n",
    "\n",
    "This is the second part in our three part series on how to use python to quickly create interactive maps.  \n",
    "\n",
    "In Part 1 we demonstrated how to use Python to create a `Map` object, locate it, decide the zoom range, tiles and add a layer control feature.     \n",
    "Here we focus on layer features most commonly used in a zoomed-in map:   \n",
    "* Markers and Feature Groups\n",
    "* Marker Clusters (markers, or features, that aggregate when you zoom out)\n",
    "* Designing Marker Icons (image and text)\n",
    "* Circles  \n",
    "\n",
    "**Disclaimer**  \n",
    "We only discuss a handful of features which we use frequently. The reader is encouraged to use the module help pages to explore the full potential and updates in the API.   \n",
    "(The Folium API used here assumes version `0.5.0`.)  \n",
    "\n",
    "** Credit **\n",
    "Maps used are provided by © OpenStreetMap contributors. \n",
    "\n",
    "This tutorial can be followed here or in [nbviewer](https://nbviewer.jupyter.org/github/SCLElections/folium_tutorial/blob/master/notebooks/beautiful_interactive_maps_part2.ipynb).  All code is also avilable on [Github](https://github.com/SCLElections/folium_tutorial).  "
   ]
  },
  {
   "cell_type": "code",
   "execution_count": 1,
   "metadata": {
    "ExecuteTime": {
     "end_time": "2018-03-12T14:08:49.978649Z",
     "start_time": "2018-03-12T14:08:47.742076Z"
    }
   },
   "outputs": [
    {
     "data": {
      "text/plain": [
       "u'0.5.0'"
      ]
     },
     "execution_count": 1,
     "metadata": {},
     "output_type": "execute_result"
    }
   ],
   "source": [
    "import folium  # to install: pip install folium\n",
    "\n",
    "folium.__version__"
   ]
  },
  {
   "cell_type": "markdown",
   "metadata": {},
   "source": [
    "## Data  \n",
    "\n",
    "To set the stage we will introduce some data that we want to put on a map. Here we us `pandas` to quickly collate some geospatial data in a machine readable format, but this is not required (`lists` and `tuples` work fine, too). In a real project your data is more likely to come from an Excel spreadsheet, a csv of web-scraped locations, an online REST API, or a database.  \n",
    "(We used [Google Maps API](`https://maps.googleapis.com`) to pull the actual locations, all located in New York City)   "
   ]
  },
  {
   "cell_type": "code",
   "execution_count": 2,
   "metadata": {
    "ExecuteTime": {
     "end_time": "2018-03-12T14:08:50.011022Z",
     "start_time": "2018-03-12T14:08:49.994181Z"
    }
   },
   "outputs": [],
   "source": [
    "places = ['4 Washington Place',\n",
    " '10 Washington Place',\n",
    " '16 Washington Place',\n",
    " '22 Washington Place',\n",
    " '28 Washington Place',\n",
    " '34 Washington Place',\n",
    " '40 Washington Place',\n",
    " '46 Washington Place',\n",
    " '64 Washington Place',\n",
    " '70 Washington Place',\n",
    " '76 Washington Place',\n",
    " '82 Washington Place',\n",
    " '88 Washington Place',\n",
    " '94 Washington Place']\n",
    "\n",
    "\n",
    "latitude_longitudes = [(40.729020400000003, -73.99428429999999),\n",
    " (40.729370000000003, -73.995001299999998),\n",
    " (40.729528100000003, -73.995153799999997),\n",
    " (40.729940999999997, -73.995627599999992),\n",
    " (40.729841800000003, -73.995996199999993),\n",
    " (40.7300495, -73.995843800000003),\n",
    " (40.730065400000001, -73.995875500000011),\n",
    " (40.729164500000003, -73.994440999999995),\n",
    " (40.731659499999999, -73.999168999999995),\n",
    " (40.731653999999999, -73.999519599999999),\n",
    " (40.731793499999988, -73.999886799999999),\n",
    " (40.731885699999999, -74.000196599999995),\n",
    " (40.7319855, -74.000376799999998),\n",
    " (40.732303399999999, -74.000484200000002)]"
   ]
  },
  {
   "cell_type": "code",
   "execution_count": 3,
   "metadata": {
    "ExecuteTime": {
     "end_time": "2018-03-12T14:08:50.050395Z",
     "start_time": "2018-03-12T14:08:50.015662Z"
    }
   },
   "outputs": [
    {
     "data": {
      "text/html": [
       "<div>\n",
       "<style>\n",
       "    .dataframe thead tr:only-child th {\n",
       "        text-align: right;\n",
       "    }\n",
       "\n",
       "    .dataframe thead th {\n",
       "        text-align: left;\n",
       "    }\n",
       "\n",
       "    .dataframe tbody tr th {\n",
       "        vertical-align: top;\n",
       "    }\n",
       "</style>\n",
       "<table border=\"1\" class=\"dataframe\">\n",
       "  <thead>\n",
       "    <tr style=\"text-align: right;\">\n",
       "      <th></th>\n",
       "      <th>latitude_longitude</th>\n",
       "    </tr>\n",
       "    <tr>\n",
       "      <th>place</th>\n",
       "      <th></th>\n",
       "    </tr>\n",
       "  </thead>\n",
       "  <tbody>\n",
       "    <tr>\n",
       "      <th>4 Washington Place</th>\n",
       "      <td>(40.7290204, -73.9942843)</td>\n",
       "    </tr>\n",
       "    <tr>\n",
       "      <th>10 Washington Place</th>\n",
       "      <td>(40.72937, -73.9950013)</td>\n",
       "    </tr>\n",
       "    <tr>\n",
       "      <th>16 Washington Place</th>\n",
       "      <td>(40.7295281, -73.9951538)</td>\n",
       "    </tr>\n",
       "    <tr>\n",
       "      <th>22 Washington Place</th>\n",
       "      <td>(40.729941, -73.9956276)</td>\n",
       "    </tr>\n",
       "    <tr>\n",
       "      <th>28 Washington Place</th>\n",
       "      <td>(40.7298418, -73.9959962)</td>\n",
       "    </tr>\n",
       "    <tr>\n",
       "      <th>34 Washington Place</th>\n",
       "      <td>(40.7300495, -73.9958438)</td>\n",
       "    </tr>\n",
       "    <tr>\n",
       "      <th>40 Washington Place</th>\n",
       "      <td>(40.7300654, -73.9958755)</td>\n",
       "    </tr>\n",
       "    <tr>\n",
       "      <th>46 Washington Place</th>\n",
       "      <td>(40.7291645, -73.994441)</td>\n",
       "    </tr>\n",
       "    <tr>\n",
       "      <th>64 Washington Place</th>\n",
       "      <td>(40.7316595, -73.999169)</td>\n",
       "    </tr>\n",
       "    <tr>\n",
       "      <th>70 Washington Place</th>\n",
       "      <td>(40.731654, -73.9995196)</td>\n",
       "    </tr>\n",
       "    <tr>\n",
       "      <th>76 Washington Place</th>\n",
       "      <td>(40.7317935, -73.9998868)</td>\n",
       "    </tr>\n",
       "    <tr>\n",
       "      <th>82 Washington Place</th>\n",
       "      <td>(40.7318857, -74.0001966)</td>\n",
       "    </tr>\n",
       "    <tr>\n",
       "      <th>88 Washington Place</th>\n",
       "      <td>(40.7319855, -74.0003768)</td>\n",
       "    </tr>\n",
       "    <tr>\n",
       "      <th>94 Washington Place</th>\n",
       "      <td>(40.7323034, -74.0004842)</td>\n",
       "    </tr>\n",
       "  </tbody>\n",
       "</table>\n",
       "</div>"
      ],
      "text/plain": [
       "                            latitude_longitude\n",
       "place                                         \n",
       "4 Washington Place   (40.7290204, -73.9942843)\n",
       "10 Washington Place    (40.72937, -73.9950013)\n",
       "16 Washington Place  (40.7295281, -73.9951538)\n",
       "22 Washington Place   (40.729941, -73.9956276)\n",
       "28 Washington Place  (40.7298418, -73.9959962)\n",
       "34 Washington Place  (40.7300495, -73.9958438)\n",
       "40 Washington Place  (40.7300654, -73.9958755)\n",
       "46 Washington Place   (40.7291645, -73.994441)\n",
       "64 Washington Place   (40.7316595, -73.999169)\n",
       "70 Washington Place   (40.731654, -73.9995196)\n",
       "76 Washington Place  (40.7317935, -73.9998868)\n",
       "82 Washington Place  (40.7318857, -74.0001966)\n",
       "88 Washington Place  (40.7319855, -74.0003768)\n",
       "94 Washington Place  (40.7323034, -74.0004842)"
      ]
     },
     "execution_count": 3,
     "metadata": {},
     "output_type": "execute_result"
    }
   ],
   "source": [
    "import pandas as pd # pip install pandas\n",
    "\n",
    "df_ = pd.DataFrame({'latitude_longitude': latitude_longitudes}, index=places)\n",
    "df_.index.name = 'place'\n",
    "df_"
   ]
  },
  {
   "cell_type": "markdown",
   "metadata": {},
   "source": [
    "## Markers  and Feature Groups\n",
    "\n",
    "`folium.Marker` is a marker object, which takes keywords:  \n",
    "* `location` - tuple or list of the geolocation (latitude, longtiude)  \n",
    "* `popup`\n",
    "    * `str` - input text for marker  \n",
    "    * `folium.Popup` - for visualization\n",
    "* `icon` - a `folium.Icon` object (discussed further below)  \n",
    "\n",
    "Here we show that `Marker` objects can be aggregated to a layer with `folium.FeatureGroup`. "
   ]
  },
  {
   "cell_type": "code",
   "execution_count": 4,
   "metadata": {
    "ExecuteTime": {
     "end_time": "2018-03-12T14:08:50.613248Z",
     "start_time": "2018-03-12T14:08:50.055789Z"
    }
   },
   "outputs": [
    {
     "data": {
      "text/html": [
       "<div style=\"width:100%;\"><div style=\"position:relative;width:100%;height:0;padding-bottom:60%;\"><iframe src=\"data:text/html;charset=utf-8;base64,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\" style=\"position:absolute;width:100%;height:100%;left:0;top:0;border:none !important;\" allowfullscreen webkitallowfullscreen mozallowfullscreen></iframe></div></div>"
      ],
      "text/plain": [
       "<folium.folium.Map at 0x107c91b90>"
      ]
     },
     "execution_count": 4,
     "metadata": {},
     "output_type": "execute_result"
    }
   ],
   "source": [
    "# ====== Create the Marker Group layer ======\n",
    "marker_group = folium.FeatureGroup(name='Location Markers')\n",
    "\n",
    "for idx, row in df_.iterrows():\n",
    "    label = \"{} New York, NY \".format(idx) # we can label each label with popup \n",
    "    folium.Marker(row['latitude_longitude'], popup=label).add_to(marker_group)\n",
    "\n",
    "# ====== Create a map object, location and zoom ======\n",
    "center_latitude, center_longitude = 40.729183, -73.994263\n",
    "location = (center_latitude, center_longitude)\n",
    "zoom_start = 18\n",
    "\n",
    "map_ = folium.Map(location=location, zoom_start=zoom_start, control_scale=True) \n",
    "\n",
    "# ====== Add Marker Group Layer to the map ======\n",
    "marker_group.add_to(map_) # or: map_.add_child(marker_group)\n",
    "\n",
    "# ====== Display ======\n",
    "# map_.save('my_map.html') # (alternatively create HTML)\n",
    "\n",
    "map_ # display in the notebook"
   ]
  },
  {
   "cell_type": "markdown",
   "metadata": {},
   "source": [
    "Note: Click on a marker to read its label. "
   ]
  },
  {
   "cell_type": "markdown",
   "metadata": {},
   "source": [
    "## Marker Clusters  \n",
    "When zooming out in the previous map, you will notice that the `Marker` objects tend to overlap.  \n",
    "A useful alternative to `folium.FeatureGroup` is `plugins.MarkerCluster`, which will aggregate the markers into a more interactive object that describes the number of markers it is made of and has a dynamic click-to-zoom-in feature.\n"
   ]
  },
  {
   "cell_type": "code",
   "execution_count": 5,
   "metadata": {
    "ExecuteTime": {
     "end_time": "2018-03-12T14:08:51.668563Z",
     "start_time": "2018-03-12T14:08:51.576549Z"
    }
   },
   "outputs": [],
   "source": [
    "from folium import plugins"
   ]
  },
  {
   "cell_type": "code",
   "execution_count": 6,
   "metadata": {
    "ExecuteTime": {
     "end_time": "2018-03-12T14:08:52.434974Z",
     "start_time": "2018-03-12T14:08:51.903901Z"
    }
   },
   "outputs": [
    {
     "data": {
      "text/html": [
       "<div style=\"width:100%;\"><div style=\"position:relative;width:100%;height:0;padding-bottom:60%;\"><iframe src=\"data:text/html;charset=utf-8;base64,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\" style=\"position:absolute;width:100%;height:100%;left:0;top:0;border:none !important;\" allowfullscreen webkitallowfullscreen mozallowfullscreen></iframe></div></div>"
      ],
      "text/plain": [
       "<folium.folium.Map at 0x107e64550>"
      ]
     },
     "execution_count": 6,
     "metadata": {},
     "output_type": "execute_result"
    }
   ],
   "source": [
    "# ====== Create the Marker Cluster layer ======\n",
    "# this code is similar to before where we now replace `folium.FeatureGroup` with  `plugins.MarkerCluster`\n",
    "marker_group_clustered = plugins.MarkerCluster(name='Location Markers Clustered')\n",
    "\n",
    "for idx, row in df_.iterrows():\n",
    "    label = \"{} New York, NY \".format(idx) # we can label each label with popup \n",
    "    folium.Marker(row['latitude_longitude'], popup=label).add_to(marker_group_clustered)\n",
    "    \n",
    "# ====== Create a map object, location and zoom ======\n",
    "center_latitude, center_longitude =  40.731654, -73.9995196\n",
    "location = (center_latitude, center_longitude)\n",
    "zoom_start = 18\n",
    "\n",
    "map_ = folium.Map(location=location, zoom_start=zoom_start, control_scale=True) \n",
    "\n",
    "# ====== Add Marker Cluster Layer to the map ======\n",
    "marker_group_clustered.add_to(map_) # or map_.add_child(marker_group_clustered)\n",
    "\n",
    "# ====== Display ======\n",
    "# map_.save('my_map.html') # (alternatively create an HTML)\n",
    "\n",
    "map_ # display in notebook"
   ]
  },
  {
   "cell_type": "markdown",
   "metadata": {},
   "source": [
    "Notes:\n",
    "* Zoom out and back in to see what happens  \n",
    "* Zoom out again and then click on a cluster. The map should either zoom in automatically while showing smaller clusters or the markers.  \n",
    "* The marker label functionality is the same as before "
   ]
  },
  {
   "cell_type": "markdown",
   "metadata": {},
   "source": [
    "## Icons\n",
    "\n",
    "`folium.Icon` enables you to choose from a large variety of icons and colors for the Markers.  \n",
    "\n",
    "keywords:   \n",
    "* `prefix` - The prefix indicating the source of `icon` (default is `glyphicon`; `fa` for font-awesome. See sources below)    \n",
    "* `icon` - The name of the marker sign.     \n",
    "* `color` - the color of the marker  \n",
    "* `icon_color` - the color of the sign of the marker  \n",
    "\n",
    "Supported colors:  \n",
    "```\n",
    "['red', 'blue', 'green', 'purple', 'orange', 'darkred',\n",
    "'lightred', 'beige', 'darkblue', 'darkgreen', 'cadetblue',\n",
    "'darkpurple', 'white', 'pink', 'lightblue', 'lightgreen',\n",
    "'gray', 'black', 'lightgray']\n",
    "```\n",
    "\n",
    "\n",
    "There are two main free sources of icons to choose from:  \n",
    "\n",
    "* [fontawesome.com gallery (`prefix='fa'`)](https://fontawesome.com/icons?d=gallery)   \n",
    "  \n",
    "* [bootstrap 3 glyphicon (`prefix='glyphicon'`)](https://getbootstrap.com/docs/3.3/components/)      \n",
    "\n",
    "\n",
    "In the following we create a `FeatureGroup`, as before, but we now feed the `icon` keyword with an  `Icon` object.  "
   ]
  },
  {
   "cell_type": "code",
   "execution_count": 7,
   "metadata": {
    "ExecuteTime": {
     "end_time": "2018-03-12T14:08:53.812182Z",
     "start_time": "2018-03-12T14:08:53.117176Z"
    },
    "scrolled": false
   },
   "outputs": [
    {
     "data": {
      "text/html": [
       "<div style=\"width:100%;\"><div style=\"position:relative;width:100%;height:0;padding-bottom:60%;\"><iframe src=\"data:text/html;charset=utf-8;base64,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\" style=\"position:absolute;width:100%;height:100%;left:0;top:0;border:none !important;\" allowfullscreen webkitallowfullscreen mozallowfullscreen></iframe></div></div>"
      ],
      "text/plain": [
       "<folium.folium.Map at 0x107f30190>"
      ]
     },
     "execution_count": 7,
     "metadata": {},
     "output_type": "execute_result"
    }
   ],
   "source": [
    "# ====== Create a FeatureGroup Layer ======\n",
    "marker_group = folium.FeatureGroup(name='Location Markers') \n",
    "\n",
    "# ============ Many options to choose from ===========\n",
    "# This is a bit of overkill, but gives you an idea of what is possible\n",
    "\n",
    "# full list of colors\n",
    "l_colors = ['red', 'blue', 'green', 'purple', 'orange', 'darkred','lightred', 'beige', 'darkblue', \n",
    "            'darkgreen', 'cadetblue', 'darkpurple', 'white', 'pink', 'lightblue', 'lightgreen',\n",
    "            'gray', 'black', 'lightgray']\n",
    "\n",
    "# combining options from fontawesome and bootstrap\n",
    "l_icons = ['male', 'female', 'building' ] # from fa (fontawesome)\n",
    "l_icons +=['info-sign', 'fire', 'camera'] # from glyphicons (bootstrap)\n",
    "l_prefix = (['fa'] * 3) +  (['glyphicon'] * 3)\n",
    "\n",
    "# ====== Appending Markers to the FeatureGroup layer with customesed Icons ======\n",
    "i = -1\n",
    "for idx, row in df_.iterrows():\n",
    "    label = \"{} New York, NY \".format(idx) # we can label each label with popup \n",
    "    # ===== updating for each icon =======\n",
    "    i += 1\n",
    "    icon =  l_icons[i % len(l_icons)]\n",
    "    color = l_colors[i % len(l_colors)] # color of marker\n",
    "    icon_color = l_colors[3:17][i % len(l_colors)] # color of marker drawing\n",
    "    prefix = l_prefix[i % len(l_prefix)] #'glyphicon' #'fa'\n",
    "    # ====================================\n",
    "    icon = folium.Icon(icon=icon, prefix=prefix, color=color, icon_color=icon_color)\n",
    "    folium.Marker(row['latitude_longitude'], popup=label, icon=icon).add_to(marker_group)\n",
    "\n",
    "# ====== Create a map object, location and zoom ======\n",
    "map_ = folium.Map(location=(40.731, -73.997), zoom_start=17, control_scale=True)  # creating new map object\n",
    "\n",
    "map_.add_child(marker_group) # or: marker_group.add_to(map_)\n",
    "map_.add_child(folium.LayerControl(position='topleft', collapsed=True)) # adding Layer Control (optional)\n",
    "    \n",
    "map_"
   ]
  },
  {
   "cell_type": "markdown",
   "metadata": {},
   "source": [
    "For additional information on icons see this [Github page](https://github.com/lvoogdt/Leaflet.awesome-markers).   \n"
   ]
  },
  {
   "cell_type": "markdown",
   "metadata": {},
   "source": [
    "## Circles\n",
    "\n",
    "Instead of markers you can also mark locations with circles, either full or empty.  \n",
    "To display in units of meters use `folium.Circle`. For units of pixles use `folium.CircleMarker`."
   ]
  },
  {
   "cell_type": "code",
   "execution_count": 8,
   "metadata": {
    "ExecuteTime": {
     "end_time": "2018-03-12T14:08:54.432922Z",
     "start_time": "2018-03-12T14:08:54.237936Z"
    }
   },
   "outputs": [
    {
     "data": {
      "text/html": [
       "<div style=\"width:100%;\"><div style=\"position:relative;width:100%;height:0;padding-bottom:60%;\"><iframe src=\"data:text/html;charset=utf-8;base64,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\" style=\"position:absolute;width:100%;height:100%;left:0;top:0;border:none !important;\" allowfullscreen webkitallowfullscreen mozallowfullscreen></iframe></div></div>"
      ],
      "text/plain": [
       "<folium.folium.Map at 0x107e5fe90>"
      ]
     },
     "execution_count": 8,
     "metadata": {},
     "output_type": "execute_result"
    }
   ],
   "source": [
    "map_ = folium.Map(location=location, zoom_start=zoom_start, control_scale=True)  # creating new map object\n",
    "\n",
    "radius = 50\n",
    "\n",
    "# ========= In units of meters ============\n",
    "circle_name = 'my full circle in {} meters'.format(radius)\n",
    "circle_full = folium.Circle(location=location, radius=radius, fill_opacity=0.3, popup=circle_name, \n",
    "                            color='#3186cc',fill_color='#3186cc', fill=True)\n",
    "\n",
    "map_.add_child(circle_full) # or circle_full.add_to(map_)\n",
    "\n",
    "# ========= In units of pixels ============\n",
    "circle_name = 'my full circle in {} pixels'.format(radius)\n",
    "\n",
    "location2 = (location[0] + 0.0005, location[1] + 0.001)\n",
    "circle_full_pixels = folium.CircleMarker(location=location2, radius=radius, fill_opacity=0.3, popup=circle_name, \n",
    "                            color='#3186cc',fill_color='#3186cc', fill=True)\n",
    "\n",
    "map_.add_child(circle_full_pixels) # or circle_full_pixels.add_to(map_)\n",
    "# ==========================================\n",
    "\n",
    "map_"
   ]
  },
  {
   "cell_type": "markdown",
   "metadata": {},
   "source": [
    "Note: \n",
    "* Click on each circle to see the labels displayed  \n",
    "* Zoom out and notice that the meters circle gets smaller (remains 50 meters), where the pixel one remains the same size (50 pixels).  \n",
    "* `Circle`s and `CircleMarker`s may be added in `FeatureGroup` and  `MarkerCluster` in the same manner as `Marker`s.  \n",
    "\n",
    "Let's do the same but with empty circles around two points.  \n",
    "Here we also show that you can bold-face the label name with JavaScript `<b>...</b>`, and enter more than one line with the break `<br>`.  "
   ]
  },
  {
   "cell_type": "code",
   "execution_count": 9,
   "metadata": {
    "ExecuteTime": {
     "end_time": "2018-03-12T14:08:55.352588Z",
     "start_time": "2018-03-12T14:08:54.988734Z"
    }
   },
   "outputs": [
    {
     "data": {
      "text/html": [
       "<div style=\"width:100%;\"><div style=\"position:relative;width:100%;height:0;padding-bottom:60%;\"><iframe src=\"data:text/html;charset=utf-8;base64,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\" style=\"position:absolute;width:100%;height:100%;left:0;top:0;border:none !important;\" allowfullscreen webkitallowfullscreen mozallowfullscreen></iframe></div></div>"
      ],
      "text/plain": [
       "<folium.folium.Map at 0x10802f890>"
      ]
     },
     "execution_count": 9,
     "metadata": {},
     "output_type": "execute_result"
    }
   ],
   "source": [
    "radius_fracs = [0.25, 0.5, 0.75, 1.]\n",
    "\n",
    "center_latitude, center_longitude = 40.729183, -73.994263\n",
    "location = (center_latitude, center_longitude)\n",
    "map_ = folium.Map(location=location, zoom_start=zoom_start, control_scale=True)  # creating new map object\n",
    "\n",
    "for idx, row in df_.iloc[[0, 6]].iterrows(): # looping over locations (choosing two- index location 0 and 6)\n",
    "    for frac in radius_fracs: # looping over the radius factions\n",
    "        radius_temp = radius * frac\n",
    "        name = \"<b>{} New York, NY</b><br>{:0.1f} meters\".format(idx, radius_temp)\n",
    "        folium.Circle(location=row['latitude_longitude'], radius=radius_temp, fill_opacity=0.3, popup=name, \n",
    "                             color='#3186cc',fill_color='#3186cc', fill=False).add_to(map_)\n",
    "\n",
    "map_"
   ]
  },
  {
   "cell_type": "markdown",
   "metadata": {
    "hide_input": true
   },
   "source": [
    "Note: Click on any circle to see the label result (two lines where the title is boldfaced).  "
   ]
  },
  {
   "cell_type": "markdown",
   "metadata": {},
   "source": [
    "## `FastMarkerCluster`   \n",
    "\n",
    "One should be cautious of a crucial limitation of our use so far of `Marker`s and `Circle`s - the size of the map increases linearly with the number of objects. (See image below.)    \n",
    "We calculate the gradient to be roughly 1 kByte in size for each geo-location.  This means that 1,000 markers will quickly bring the size of the map up to 1 MByte (on HTML or rendered in a notebook).  \n",
    "The main reason that the `FeatureGroup` and  `MarkerCluster` layer object are expensive is that they require a loop in which code is rendered for each object.  \n",
    "\n",
    "\n",
    "![title](../img/folium_htmlSizes.png)  \n",
    "\n",
    "An alternative approach is using `FastMarkerCluster` which is similar to `MarkerCluster` but stores the logic of layer without needing to render each marker as a separate marker. The advantage of this is smaller space per marker. We estimate this to be 40 Bytes, (not kBytes!) which suggests that a 1Mbyte map may contain 25,000 geo points. In the figure above we show that map sizes using `FastMarkerCluster` to be similar to that expected with `HeatMap` (discussed in part 3). The disadvantage of `FastMarkerCluster` compared to `MarkerCluster` is less lack flexiblity, i.e, less features. E.g, all markers must get the same icon.  \n",
    "\n",
    "As demonstrated below `FastMarkerCluster` accepts data as a list of lists (or list of tuples)  \n",
    "and `callback`, a string Javascript function, for styling the icon (here we use FontAwesome's `shopping-cart`). For the default icon set `callback=None`.   "
   ]
  },
  {
   "cell_type": "code",
   "execution_count": 11,
   "metadata": {
    "ExecuteTime": {
     "end_time": "2018-03-12T14:09:11.061709Z",
     "start_time": "2018-03-12T14:09:10.937635Z"
    }
   },
   "outputs": [
    {
     "data": {
      "text/html": [
       "<div style=\"width:100%;\"><div style=\"position:relative;width:100%;height:0;padding-bottom:60%;\"><iframe src=\"data:text/html;charset=utf-8;base64,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\" style=\"position:absolute;width:100%;height:100%;left:0;top:0;border:none !important;\" allowfullscreen webkitallowfullscreen mozallowfullscreen></iframe></div></div>"
      ],
      "text/plain": [
       "<folium.folium.Map at 0x1080af910>"
      ]
     },
     "execution_count": 11,
     "metadata": {},
     "output_type": "execute_result"
    }
   ],
   "source": [
    "# ====== Create a map object, location and zoom ======\n",
    "center_latitude, center_longitude =  40.731654, -73.9995196\n",
    "location = (center_latitude, center_longitude)\n",
    "zoom_start = 18\n",
    "\n",
    "map_ = folium.Map(location=location, zoom_start=zoom_start, control_scale=True) \n",
    "\n",
    "# ====== Design the icon ======\n",
    "# for default icon set: callback = None\n",
    "\n",
    "callback = \"\"\"\\\n",
    "function (row) {\n",
    "    var icon, marker;\n",
    "    icon = L.AwesomeMarkers.icon({icon: \"shopping-cart\", markerColor: \"red\"});\n",
    "    marker = L.marker(new L.LatLng(row[0], row[1]));\n",
    "    marker.setIcon(icon);\n",
    "    return marker;\n",
    "};\n",
    "\"\"\"\n",
    "\n",
    "# ====== Add FastMarkerCluster to the map ======\n",
    "plugins.FastMarkerCluster(df_['latitude_longitude'].tolist(), callback=callback).add_to(map_)\n",
    "\n",
    "# ====== Display ======\n",
    "# map_.save('my_map.html') # (alternatively create an HTML)\n",
    "\n",
    "map_"
   ]
  },
  {
   "cell_type": "markdown",
   "metadata": {
    "ExecuteTime": {
     "end_time": "2018-03-12T13:33:09.705006Z",
     "start_time": "2018-03-12T13:33:09.697950Z"
    }
   },
   "source": [
    "For full details in regards to the Leaflet markercluster see their [Github page](https://github.com/Leaflet/Leaflet.markercluster).    "
   ]
  },
  {
   "cell_type": "markdown",
   "metadata": {},
   "source": [
    "## Summary\n",
    "\n",
    "In this second part of our three part post we explored putting markers and circles on a map, and grouping them to a layer, which is useful mostly when zooming in to a map.  We also showed that the clustering features is useful when zooming out.  \n",
    "\n",
    "We also pointed out limitations of map file sizes vs. features.  Hence, we consider using Folium as useful as a \"quick and dirty\" tool, but not one for production. For production and scalibility we suggest exploring Leaflet in general, or other platforms to create maps.    \n",
    "\n",
    "In the third and final part we explain how to quickly create heatmaps and choropleths.  \n"
   ]
  }
 ],
 "metadata": {
  "kernelspec": {
   "display_name": "Python 2",
   "language": "python",
   "name": "python2"
  },
  "language_info": {
   "codemirror_mode": {
    "name": "ipython",
    "version": 2
   },
   "file_extension": ".py",
   "mimetype": "text/x-python",
   "name": "python",
   "nbconvert_exporter": "python",
   "pygments_lexer": "ipython2",
   "version": "2.7.8"
  },
  "toc": {
   "colors": {
    "hover_highlight": "#DAA520",
    "running_highlight": "#FF0000",
    "selected_highlight": "#FFD700"
   },
   "moveMenuLeft": true,
   "nav_menu": {
    "height": "153px",
    "width": "252px"
   },
   "navigate_menu": true,
   "number_sections": true,
   "sideBar": true,
   "threshold": 4,
   "toc_cell": false,
   "toc_position": {
    "height": "963px",
    "left": "0px",
    "right": "1470.74px",
    "top": "110px",
    "width": "212px"
   },
   "toc_section_display": "block",
   "toc_window_display": true,
   "widenNotebook": false
  }
 },
 "nbformat": 4,
 "nbformat_minor": 2
}
