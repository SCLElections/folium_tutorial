{
 "cells": [
  {
   "cell_type": "markdown",
   "metadata": {},
   "source": [
    "# Python Tutorial: Quickly Make Beautiful Interactive Maps - Zoom In\n",
    "\n",
    "This is the second part in our three part series on how to use python to quickly create interactive maps.  \n",
    "\n",
    "In Part 1 we demonstrated how to use Python to create a `Map` object, locate it, decide the zoom range, tiles and add a layer control feature.     \n",
    "Here we focus on layer features most commonly used in a zoomed-in map:   \n",
    "* Markers and Feature Groups\n",
    "* Marker Clusters (markers, or features, that aggregate when you zoom out)\n",
    "* Designing Marker Icons (image and text)\n",
    "* Circles  \n",
    "\n",
    "**Disclaimer**  \n",
    "We only discuss a handful of features which we use frequently. The reader is encouraged to use the module help pages to explore the full potential and updates in the API.   \n",
    "(The Folium API used here assumes version `0.5.0`.)  \n",
    "\n",
    "** Credit **\n",
    "Maps used are provided by © OpenStreetMap contributors. \n",
    "\n",
    "This tutorial can be followed here or in [nbviewer](https://nbviewer.jupyter.org/github/SCLElections/folium_tutorial/blob/master/notebooks/beautiful_interactive_maps_part2.ipynb).  All code is also avilable on [Github](https://github.com/SCLElections/folium_tutorial).  "
   ]
  },
  {
   "cell_type": "code",
   "execution_count": 1,
   "metadata": {
    "ExecuteTime": {
     "end_time": "2018-03-12T09:54:30.813302Z",
     "start_time": "2018-03-12T09:54:29.144995Z"
    }
   },
   "outputs": [
    {
     "data": {
      "text/plain": [
       "u'0.5.0'"
      ]
     },
     "execution_count": 1,
     "metadata": {},
     "output_type": "execute_result"
    }
   ],
   "source": [
    "import folium  # to install: pip install folium\n",
    "\n",
    "folium.__version__"
   ]
  },
  {
   "cell_type": "markdown",
   "metadata": {},
   "source": [
    "## Data  \n",
    "\n",
    "To set the stage we will introduce some data that we want to put on a map. Here we us `pandas` to quickly collate some geospatial data in a machine readable format, but this is not required (`lists` and `tuples` work fine, too). In a real project your data is more likely to come from an Excel spreadsheet, a csv of web-scraped locations, an online REST API, or a database.  \n",
    "(We used [Google Maps API](`https://maps.googleapis.com`) to pull the actual locations, all located in New York City)   "
   ]
  },
  {
   "cell_type": "code",
   "execution_count": 2,
   "metadata": {
    "ExecuteTime": {
     "end_time": "2018-03-12T09:55:02.463452Z",
     "start_time": "2018-03-12T09:55:02.448301Z"
    }
   },
   "outputs": [],
   "source": [
    "places = ['4 Washington Place',\n",
    " '10 Washington Place',\n",
    " '16 Washington Place',\n",
    " '22 Washington Place',\n",
    " '28 Washington Place',\n",
    " '34 Washington Place',\n",
    " '40 Washington Place',\n",
    " '46 Washington Place',\n",
    " '64 Washington Place',\n",
    " '70 Washington Place',\n",
    " '76 Washington Place',\n",
    " '82 Washington Place',\n",
    " '88 Washington Place',\n",
    " '94 Washington Place']\n",
    "\n",
    "\n",
    "latitude_longitudes = [(40.729020400000003, -73.99428429999999),\n",
    " (40.729370000000003, -73.995001299999998),\n",
    " (40.729528100000003, -73.995153799999997),\n",
    " (40.729940999999997, -73.995627599999992),\n",
    " (40.729841800000003, -73.995996199999993),\n",
    " (40.7300495, -73.995843800000003),\n",
    " (40.730065400000001, -73.995875500000011),\n",
    " (40.729164500000003, -73.994440999999995),\n",
    " (40.731659499999999, -73.999168999999995),\n",
    " (40.731653999999999, -73.999519599999999),\n",
    " (40.731793499999988, -73.999886799999999),\n",
    " (40.731885699999999, -74.000196599999995),\n",
    " (40.7319855, -74.000376799999998),\n",
    " (40.732303399999999, -74.000484200000002)]"
   ]
  },
  {
   "cell_type": "code",
   "execution_count": 3,
   "metadata": {
    "ExecuteTime": {
     "end_time": "2018-03-12T09:55:05.761822Z",
     "start_time": "2018-03-12T09:55:05.720888Z"
    }
   },
   "outputs": [
    {
     "data": {
      "text/html": [
       "<div>\n",
       "<style>\n",
       "    .dataframe thead tr:only-child th {\n",
       "        text-align: right;\n",
       "    }\n",
       "\n",
       "    .dataframe thead th {\n",
       "        text-align: left;\n",
       "    }\n",
       "\n",
       "    .dataframe tbody tr th {\n",
       "        vertical-align: top;\n",
       "    }\n",
       "</style>\n",
       "<table border=\"1\" class=\"dataframe\">\n",
       "  <thead>\n",
       "    <tr style=\"text-align: right;\">\n",
       "      <th></th>\n",
       "      <th>latitude_longitude</th>\n",
       "    </tr>\n",
       "    <tr>\n",
       "      <th>place</th>\n",
       "      <th></th>\n",
       "    </tr>\n",
       "  </thead>\n",
       "  <tbody>\n",
       "    <tr>\n",
       "      <th>4 Washington Place</th>\n",
       "      <td>(40.7290204, -73.9942843)</td>\n",
       "    </tr>\n",
       "    <tr>\n",
       "      <th>10 Washington Place</th>\n",
       "      <td>(40.72937, -73.9950013)</td>\n",
       "    </tr>\n",
       "    <tr>\n",
       "      <th>16 Washington Place</th>\n",
       "      <td>(40.7295281, -73.9951538)</td>\n",
       "    </tr>\n",
       "    <tr>\n",
       "      <th>22 Washington Place</th>\n",
       "      <td>(40.729941, -73.9956276)</td>\n",
       "    </tr>\n",
       "    <tr>\n",
       "      <th>28 Washington Place</th>\n",
       "      <td>(40.7298418, -73.9959962)</td>\n",
       "    </tr>\n",
       "    <tr>\n",
       "      <th>34 Washington Place</th>\n",
       "      <td>(40.7300495, -73.9958438)</td>\n",
       "    </tr>\n",
       "    <tr>\n",
       "      <th>40 Washington Place</th>\n",
       "      <td>(40.7300654, -73.9958755)</td>\n",
       "    </tr>\n",
       "    <tr>\n",
       "      <th>46 Washington Place</th>\n",
       "      <td>(40.7291645, -73.994441)</td>\n",
       "    </tr>\n",
       "    <tr>\n",
       "      <th>64 Washington Place</th>\n",
       "      <td>(40.7316595, -73.999169)</td>\n",
       "    </tr>\n",
       "    <tr>\n",
       "      <th>70 Washington Place</th>\n",
       "      <td>(40.731654, -73.9995196)</td>\n",
       "    </tr>\n",
       "    <tr>\n",
       "      <th>76 Washington Place</th>\n",
       "      <td>(40.7317935, -73.9998868)</td>\n",
       "    </tr>\n",
       "    <tr>\n",
       "      <th>82 Washington Place</th>\n",
       "      <td>(40.7318857, -74.0001966)</td>\n",
       "    </tr>\n",
       "    <tr>\n",
       "      <th>88 Washington Place</th>\n",
       "      <td>(40.7319855, -74.0003768)</td>\n",
       "    </tr>\n",
       "    <tr>\n",
       "      <th>94 Washington Place</th>\n",
       "      <td>(40.7323034, -74.0004842)</td>\n",
       "    </tr>\n",
       "  </tbody>\n",
       "</table>\n",
       "</div>"
      ],
      "text/plain": [
       "                            latitude_longitude\n",
       "place                                         \n",
       "4 Washington Place   (40.7290204, -73.9942843)\n",
       "10 Washington Place    (40.72937, -73.9950013)\n",
       "16 Washington Place  (40.7295281, -73.9951538)\n",
       "22 Washington Place   (40.729941, -73.9956276)\n",
       "28 Washington Place  (40.7298418, -73.9959962)\n",
       "34 Washington Place  (40.7300495, -73.9958438)\n",
       "40 Washington Place  (40.7300654, -73.9958755)\n",
       "46 Washington Place   (40.7291645, -73.994441)\n",
       "64 Washington Place   (40.7316595, -73.999169)\n",
       "70 Washington Place   (40.731654, -73.9995196)\n",
       "76 Washington Place  (40.7317935, -73.9998868)\n",
       "82 Washington Place  (40.7318857, -74.0001966)\n",
       "88 Washington Place  (40.7319855, -74.0003768)\n",
       "94 Washington Place  (40.7323034, -74.0004842)"
      ]
     },
     "execution_count": 3,
     "metadata": {},
     "output_type": "execute_result"
    }
   ],
   "source": [
    "import pandas as pd # pip install pandas\n",
    "\n",
    "df_ = pd.DataFrame({'latitude_longitude': latitude_longitudes}, index=places)\n",
    "df_.index.name = 'place'\n",
    "df_"
   ]
  },
  {
   "cell_type": "markdown",
   "metadata": {},
   "source": [
    "## Markers  and Feature Groups\n",
    "\n",
    "`folium.Marker` is a marker object, which takes keywords:  \n",
    "* `location` - tuple or list of the geolocation (latitude, longtiude)  \n",
    "* `popup`\n",
    "    * `str` - input text for marker  \n",
    "    * `folium.Popup` - for visualization\n",
    "* `icon` - a `folium.Icon` object (discussed further below)  \n",
    "\n",
    "Here we show that `Marker` objects can be aggregated to a layer with `folium.FeatureGroup`. "
   ]
  },
  {
   "cell_type": "code",
   "execution_count": 4,
   "metadata": {
    "ExecuteTime": {
     "end_time": "2018-03-12T09:55:46.229886Z",
     "start_time": "2018-03-12T09:55:45.720493Z"
    }
   },
   "outputs": [
    {
     "data": {
      "text/html": [
       "<div style=\"width:100%;\"><div style=\"position:relative;width:100%;height:0;padding-bottom:60%;\"><iframe src=\"data:text/html;charset=utf-8;base64,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\" style=\"position:absolute;width:100%;height:100%;left:0;top:0;border:none !important;\" allowfullscreen webkitallowfullscreen mozallowfullscreen></iframe></div></div>"
      ],
      "text/plain": [
       "<folium.folium.Map at 0x1094b1210>"
      ]
     },
     "execution_count": 4,
     "metadata": {},
     "output_type": "execute_result"
    }
   ],
   "source": [
    "# ====== Create the Marker Group layer ======\n",
    "marker_group = folium.FeatureGroup(name='Location Markers')\n",
    "\n",
    "for idx, row in df_.iterrows():\n",
    "    label = \"{} New York, NY \".format(idx) # we can label each label with popup \n",
    "    folium.Marker(row['latitude_longitude'], popup=label).add_to(marker_group)\n",
    "\n",
    "# ====== Create a map object, location and zoom ======\n",
    "center_latitude, center_longitude = 40.729183, -73.994263\n",
    "location = (center_latitude, center_longitude)\n",
    "zoom_start = 18\n",
    "\n",
    "map_ = folium.Map(location=location, zoom_start=zoom_start, control_scale=True) \n",
    "\n",
    "# ====== Add Marker Group Layer to the map ======\n",
    "marker_group.add_to(map_) # or: map_.add_child(marker_group)\n",
    "\n",
    "# ====== Display ======\n",
    "# map_.save('my_map.html') # (alternatively create HTML)\n",
    "\n",
    "map_ # display in the notebook"
   ]
  },
  {
   "cell_type": "markdown",
   "metadata": {},
   "source": [
    "Note: Click on a marker to read its label. "
   ]
  },
  {
   "cell_type": "markdown",
   "metadata": {},
   "source": [
    "## Marker Clusters  \n",
    "When zooming out in the previous map, you will notice that the `Marker` objects tend to overlap.  \n",
    "A useful alternative to `folium.FeatureGroup` is `plugins.MarkerCluster`, which will aggregate the markers into a more interactive object that describes the number of markers it is made of and has a dynamic click-to-zoom-in feature.\n"
   ]
  },
  {
   "cell_type": "code",
   "execution_count": 5,
   "metadata": {
    "ExecuteTime": {
     "end_time": "2018-03-12T09:56:31.573992Z",
     "start_time": "2018-03-12T09:56:31.542522Z"
    }
   },
   "outputs": [],
   "source": [
    "from folium import plugins"
   ]
  },
  {
   "cell_type": "code",
   "execution_count": 6,
   "metadata": {
    "ExecuteTime": {
     "end_time": "2018-03-12T09:56:37.900526Z",
     "start_time": "2018-03-12T09:56:37.373924Z"
    }
   },
   "outputs": [
    {
     "data": {
      "text/html": [
       "<div style=\"width:100%;\"><div style=\"position:relative;width:100%;height:0;padding-bottom:60%;\"><iframe src=\"data:text/html;charset=utf-8;base64,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\" style=\"position:absolute;width:100%;height:100%;left:0;top:0;border:none !important;\" allowfullscreen webkitallowfullscreen mozallowfullscreen></iframe></div></div>"
      ],
      "text/plain": [
       "<folium.folium.Map at 0x10959d890>"
      ]
     },
     "execution_count": 6,
     "metadata": {},
     "output_type": "execute_result"
    }
   ],
   "source": [
    "# ====== Create the Marker Cluster layer ======\n",
    "# this code is similar to before where we now replace `folium.FeatureGroup` with  `plugins.MarkerCluster`\n",
    "marker_group_clustered = plugins.MarkerCluster(name='Location Markers Clustered')\n",
    "\n",
    "for idx, row in df_.iterrows():\n",
    "    label = \"{} New York, NY \".format(idx) # we can label each label with popup \n",
    "    folium.Marker(row['latitude_longitude'], popup=label).add_to(marker_group_clustered)\n",
    "    \n",
    "# ====== Create a map object, location and zoom ======\n",
    "center_latitude, center_longitude =  40.731654, -73.9995196\n",
    "location = (center_latitude, center_longitude)\n",
    "zoom_start = 18\n",
    "\n",
    "map_ = folium.Map(location=location, zoom_start=zoom_start, control_scale=True) \n",
    "\n",
    "# ====== Add Marker Cluster Layer to the map ======\n",
    "marker_group_clustered.add_to(map_) # or map_.add_child(marker_group_clustered)\n",
    "\n",
    "# ====== Display ======\n",
    "# map_.save('my_map.html') # (alternatively create an HTML)\n",
    "\n",
    "map_ # display in notebook"
   ]
  },
  {
   "cell_type": "markdown",
   "metadata": {},
   "source": [
    "Notes:\n",
    "* Zoom out and back in to see what happens  \n",
    "* Zoom out again and then click on a cluster. The map should either zoom in automatically while showing smaller clusters or the markers.  \n",
    "* The marker label functionality is the same as before "
   ]
  },
  {
   "cell_type": "markdown",
   "metadata": {},
   "source": [
    "## Icons\n",
    "\n",
    "`folium.Icon` enables you to choose from a large variety of icons and colors for the Markers.  \n",
    "\n",
    "keywords:   \n",
    "* `prefix` - The prefix indicating the source of `icon` (default is `glyphicon`; `fa` for font-awesome. See sources below)    \n",
    "* `icon` - The name of the marker sign.     \n",
    "* `color` - the color of the marker  \n",
    "* `icon_color` - the color of the sign of the marker  \n",
    "\n",
    "Supported colors:  \n",
    "```\n",
    "['red', 'blue', 'green', 'purple', 'orange', 'darkred',\n",
    "'lightred', 'beige', 'darkblue', 'darkgreen', 'cadetblue',\n",
    "'darkpurple', 'white', 'pink', 'lightblue', 'lightgreen',\n",
    "'gray', 'black', 'lightgray']\n",
    "```\n",
    "\n",
    "\n",
    "There are two main free sources of icons to choose from:  \n",
    "\n",
    "* [fontawesome.com gallery (`prefix='fa'`)](https://fontawesome.com/icons?d=gallery)   \n",
    "  \n",
    "* [bootstrap 3 glyphicon (`prefix='glyphicon'`)](https://getbootstrap.com/docs/3.3/components/)      \n",
    "\n",
    "\n",
    "In the following we create a `FeatureGroup`, as before, but we now feed the `icon` keyword with an  `Icon` object.  "
   ]
  },
  {
   "cell_type": "code",
   "execution_count": 7,
   "metadata": {
    "ExecuteTime": {
     "end_time": "2018-03-12T09:58:52.494608Z",
     "start_time": "2018-03-12T09:58:51.786967Z"
    },
    "scrolled": false
   },
   "outputs": [
    {
     "data": {
      "text/html": [
       "<div style=\"width:100%;\"><div style=\"position:relative;width:100%;height:0;padding-bottom:60%;\"><iframe src=\"data:text/html;charset=utf-8;base64,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\" style=\"position:absolute;width:100%;height:100%;left:0;top:0;border:none !important;\" allowfullscreen webkitallowfullscreen mozallowfullscreen></iframe></div></div>"
      ],
      "text/plain": [
       "<folium.folium.Map at 0x109659390>"
      ]
     },
     "execution_count": 7,
     "metadata": {},
     "output_type": "execute_result"
    }
   ],
   "source": [
    "# ====== Create a FeatureGroup Layer ======\n",
    "marker_group = folium.FeatureGroup(name='Location Markers') \n",
    "\n",
    "# ============ Many options to choose from ===========\n",
    "# This is a bit of overkill, but gives you an idea of what is possible\n",
    "\n",
    "# full list of colors\n",
    "l_colors = ['red', 'blue', 'green', 'purple', 'orange', 'darkred','lightred', 'beige', 'darkblue', \n",
    "            'darkgreen', 'cadetblue', 'darkpurple', 'white', 'pink', 'lightblue', 'lightgreen',\n",
    "            'gray', 'black', 'lightgray']\n",
    "\n",
    "# combining options from fontawesome and bootstrap\n",
    "l_icons = ['male', 'female', 'building' ] # from fa (fontawesome)\n",
    "l_icons +=['info-sign', 'fire', 'camera'] # from glyphicons (bootstrap)\n",
    "l_prefix = (['fa'] * 3) +  (['glyphicon'] * 3)\n",
    "\n",
    "# ====== Appending Markers to the FeatureGroup layer with customesed Icons ======\n",
    "i = -1\n",
    "for idx, row in df_.iterrows():\n",
    "    label = \"{} New York, NY \".format(idx) # we can label each label with popup \n",
    "    # ===== updating for each icon =======\n",
    "    i += 1\n",
    "    icon =  l_icons[i % len(l_icons)]\n",
    "    color = l_colors[i % len(l_colors)] # color of marker\n",
    "    icon_color = l_colors[3:17][i % len(l_colors)] # color of marker drawing\n",
    "    prefix = l_prefix[i % len(l_prefix)] #'glyphicon' #'fa'\n",
    "    # ====================================\n",
    "    icon = folium.Icon(icon=icon, prefix=prefix, color=color, icon_color=icon_color)\n",
    "    folium.Marker(row['latitude_longitude'], popup=label, icon=icon).add_to(marker_group)\n",
    "\n",
    "# ====== Create a map object, location and zoom ======\n",
    "map_ = folium.Map(location=(40.731, -73.997), zoom_start=17, control_scale=True)  # creating new map object\n",
    "\n",
    "map_.add_child(marker_group) # or: marker_group.add_to(map_)\n",
    "map_.add_child(folium.LayerControl(position='topleft', collapsed=True)) # adding Layer Control (optional)\n",
    "    \n",
    "map_"
   ]
  },
  {
   "cell_type": "markdown",
   "metadata": {},
   "source": [
    "For additional information on icons see this [Github page](https://github.com/lvoogdt/Leaflet.awesome-markers).   \n"
   ]
  },
  {
   "cell_type": "markdown",
   "metadata": {},
   "source": [
    "## Circles\n",
    "\n",
    "Instead of markers you can also mark locations with circles, either full or empty.  \n",
    "To display in units of meters use `folium.Circle`. For units of pixles use `folium.CircleMarker`."
   ]
  },
  {
   "cell_type": "code",
   "execution_count": 8,
   "metadata": {
    "ExecuteTime": {
     "end_time": "2018-03-12T09:59:34.707274Z",
     "start_time": "2018-03-12T09:59:34.522690Z"
    }
   },
   "outputs": [
    {
     "data": {
      "text/html": [
       "<div style=\"width:100%;\"><div style=\"position:relative;width:100%;height:0;padding-bottom:60%;\"><iframe src=\"data:text/html;charset=utf-8;base64,PCFET0NUWVBFIGh0bWw+CjxoZWFkPiAgICAKICAgIDxtZXRhIGh0dHAtZXF1aXY9ImNvbnRlbnQtdHlwZSIgY29udGVudD0idGV4dC9odG1sOyBjaGFyc2V0PVVURi04IiAvPgogICAgPHNjcmlwdD5MX1BSRUZFUl9DQU5WQVMgPSBmYWxzZTsgTF9OT19UT1VDSCA9IGZhbHNlOyBMX0RJU0FCTEVfM0QgPSBmYWxzZTs8L3NjcmlwdD4KICAgIDxzY3JpcHQgc3JjPSJodHRwczovL2Nkbi5qc2RlbGl2ci5uZXQvbnBtL2xlYWZsZXRAMS4yLjAvZGlzdC9sZWFmbGV0LmpzIj48L3NjcmlwdD4KICAgIDxzY3JpcHQgc3JjPSJodHRwczovL2FqYXguZ29vZ2xlYXBpcy5jb20vYWpheC9saWJzL2pxdWVyeS8xLjExLjEvanF1ZXJ5Lm1pbi5qcyI+PC9zY3JpcHQ+CiAgICA8c2NyaXB0IHNyYz0iaHR0cHM6Ly9tYXhjZG4uYm9vdHN0cmFwY2RuLmNvbS9ib290c3RyYXAvMy4yLjAvanMvYm9vdHN0cmFwLm1pbi5qcyI+PC9zY3JpcHQ+CiAgICA8c2NyaXB0IHNyYz0iaHR0cHM6Ly9jZG5qcy5jbG91ZGZsYXJlLmNvbS9hamF4L2xpYnMvTGVhZmxldC5hd2Vzb21lLW1hcmtlcnMvMi4wLjIvbGVhZmxldC5hd2Vzb21lLW1hcmtlcnMuanMiPjwvc2NyaXB0PgogICAgPGxpbmsgcmVsPSJzdHlsZXNoZWV0IiBocmVmPSJodHRwczovL2Nkbi5qc2RlbGl2ci5uZXQvbnBtL2xlYWZsZXRAMS4yLjAvZGlzdC9sZWFmbGV0LmNzcyIgLz4KICAgIDxsaW5rIHJlbD0ic3R5bGVzaGVldCIgaHJlZj0iaHR0cHM6Ly9tYXhjZG4uYm9vdHN0cmFwY2RuLmNvbS9ib290c3RyYXAvMy4yLjAvY3NzL2Jvb3RzdHJhcC5taW4uY3NzIiAvPgogICAgPGxpbmsgcmVsPSJzdHlsZXNoZWV0IiBocmVmPSJodHRwczovL21heGNkbi5ib290c3RyYXBjZG4uY29tL2Jvb3RzdHJhcC8zLjIuMC9jc3MvYm9vdHN0cmFwLXRoZW1lLm1pbi5jc3MiIC8+CiAgICA8bGluayByZWw9InN0eWxlc2hlZXQiIGhyZWY9Imh0dHBzOi8vbWF4Y2RuLmJvb3RzdHJhcGNkbi5jb20vZm9udC1hd2Vzb21lLzQuNi4zL2Nzcy9mb250LWF3ZXNvbWUubWluLmNzcyIgLz4KICAgIDxsaW5rIHJlbD0ic3R5bGVzaGVldCIgaHJlZj0iaHR0cHM6Ly9jZG5qcy5jbG91ZGZsYXJlLmNvbS9hamF4L2xpYnMvTGVhZmxldC5hd2Vzb21lLW1hcmtlcnMvMi4wLjIvbGVhZmxldC5hd2Vzb21lLW1hcmtlcnMuY3NzIiAvPgogICAgPGxpbmsgcmVsPSJzdHlsZXNoZWV0IiBocmVmPSJodHRwczovL3Jhd2dpdC5jb20vcHl0aG9uLXZpc3VhbGl6YXRpb24vZm9saXVtL21hc3Rlci9mb2xpdW0vdGVtcGxhdGVzL2xlYWZsZXQuYXdlc29tZS5yb3RhdGUuY3NzIiAvPgogICAgPHN0eWxlPmh0bWwsIGJvZHkge3dpZHRoOiAxMDAlO2hlaWdodDogMTAwJTttYXJnaW46IDA7cGFkZGluZzogMDt9PC9zdHlsZT4KICAgIDxzdHlsZT4jbWFwIHtwb3NpdGlvbjphYnNvbHV0ZTt0b3A6MDtib3R0b206MDtyaWdodDowO2xlZnQ6MDt9PC9zdHlsZT4KICAgIAogICAgICAgICAgICA8c3R5bGU+ICNtYXBfMDMxYzc2NWIxOTdkNDBlZWE2YmFlMmVkNTY0NGI2OGIgewogICAgICAgICAgICAgICAgcG9zaXRpb24gOiByZWxhdGl2ZTsKICAgICAgICAgICAgICAgIHdpZHRoIDogMTAwLjAlOwogICAgICAgICAgICAgICAgaGVpZ2h0OiAxMDAuMCU7CiAgICAgICAgICAgICAgICBsZWZ0OiAwLjAlOwogICAgICAgICAgICAgICAgdG9wOiAwLjAlOwogICAgICAgICAgICAgICAgfQogICAgICAgICAgICA8L3N0eWxlPgogICAgICAgIAo8L2hlYWQ+Cjxib2R5PiAgICAKICAgIAogICAgICAgICAgICA8ZGl2IGNsYXNzPSJmb2xpdW0tbWFwIiBpZD0ibWFwXzAzMWM3NjViMTk3ZDQwZWVhNmJhZTJlZDU2NDRiNjhiIiA+PC9kaXY+CiAgICAgICAgCjwvYm9keT4KPHNjcmlwdD4gICAgCiAgICAKCiAgICAgICAgICAgIAogICAgICAgICAgICAgICAgdmFyIGJvdW5kcyA9IG51bGw7CiAgICAgICAgICAgIAoKICAgICAgICAgICAgdmFyIG1hcF8wMzFjNzY1YjE5N2Q0MGVlYTZiYWUyZWQ1NjQ0YjY4YiA9IEwubWFwKAogICAgICAgICAgICAgICAgICAgICAgICAgICAgICAgICAgJ21hcF8wMzFjNzY1YjE5N2Q0MGVlYTZiYWUyZWQ1NjQ0YjY4YicsCiAgICAgICAgICAgICAgICAgICAgICAgICAgICAgICAgICB7Y2VudGVyOiBbNDAuNzMxNjU0LC03My45OTk1MTk2XSwKICAgICAgICAgICAgICAgICAgICAgICAgICAgICAgICAgIHpvb206IDE4LAogICAgICAgICAgICAgICAgICAgICAgICAgICAgICAgICAgbWF4Qm91bmRzOiBib3VuZHMsCiAgICAgICAgICAgICAgICAgICAgICAgICAgICAgICAgICBsYXllcnM6IFtdLAogICAgICAgICAgICAgICAgICAgICAgICAgICAgICAgICAgd29ybGRDb3B5SnVtcDogZmFsc2UsCiAgICAgICAgICAgICAgICAgICAgICAgICAgICAgICAgICBjcnM6IEwuQ1JTLkVQU0czODU3CiAgICAgICAgICAgICAgICAgICAgICAgICAgICAgICAgIH0pOwogICAgICAgICAgICBMLmNvbnRyb2wuc2NhbGUoKS5hZGRUbyhtYXBfMDMxYzc2NWIxOTdkNDBlZWE2YmFlMmVkNTY0NGI2OGIpOwogICAgICAgIAogICAgCiAgICAgICAgICAgIHZhciB0aWxlX2xheWVyXzNlMjliZGVlNTM3NTRlOGE5MzU0Zjk2NDhhYTg4ZWY3ID0gTC50aWxlTGF5ZXIoCiAgICAgICAgICAgICAgICAnaHR0cHM6Ly97c30udGlsZS5vcGVuc3RyZWV0bWFwLm9yZy97en0ve3h9L3t5fS5wbmcnLAogICAgICAgICAgICAgICAgewogICJhdHRyaWJ1dGlvbiI6IG51bGwsIAogICJkZXRlY3RSZXRpbmEiOiBmYWxzZSwgCiAgIm1heFpvb20iOiAxOCwgCiAgIm1pblpvb20iOiAxLCAKICAibm9XcmFwIjogZmFsc2UsIAogICJzdWJkb21haW5zIjogImFiYyIKfQogICAgICAgICAgICAgICAgKS5hZGRUbyhtYXBfMDMxYzc2NWIxOTdkNDBlZWE2YmFlMmVkNTY0NGI2OGIpOwogICAgICAgIAogICAgCgogICAgICAgICAgICB2YXIgY2lyY2xlXzlhNzI1MzczODE5NzQxYTJhZTZhNzc4MTEyMGU1ZGE1ID0gTC5jaXJjbGUoCiAgICAgICAgICAgICAgICBbNDAuNzMxNjU0LC03My45OTk1MTk2XSwKICAgICAgICAgICAgICAgIHsKICAiYnViYmxpbmdNb3VzZUV2ZW50cyI6IHRydWUsIAogICJjb2xvciI6ICIjMzE4NmNjIiwgCiAgImRhc2hBcnJheSI6IG51bGwsIAogICJkYXNoT2Zmc2V0IjogbnVsbCwgCiAgImZpbGwiOiB0cnVlLCAKICAiZmlsbENvbG9yIjogIiMzMTg2Y2MiLCAKICAiZmlsbE9wYWNpdHkiOiAwLjMsIAogICJmaWxsUnVsZSI6ICJldmVub2RkIiwgCiAgImxpbmVDYXAiOiAicm91bmQiLCAKICAibGluZUpvaW4iOiAicm91bmQiLCAKICAib3BhY2l0eSI6IDEuMCwgCiAgInJhZGl1cyI6IDUwLCAKICAic3Ryb2tlIjogdHJ1ZSwgCiAgIndlaWdodCI6IDMKfQogICAgICAgICAgICAgICAgKS5hZGRUbyhtYXBfMDMxYzc2NWIxOTdkNDBlZWE2YmFlMmVkNTY0NGI2OGIpOwogICAgICAgICAgICAKICAgIAogICAgICAgICAgICB2YXIgcG9wdXBfMzk5MDU0MzM2NTIzNDAxNGE3YzNmNGJlNDA2YzBjMzMgPSBMLnBvcHVwKHttYXhXaWR0aDogJzMwMCd9KTsKCiAgICAgICAgICAgIAogICAgICAgICAgICAgICAgdmFyIGh0bWxfYmQ2YjFiMDc2ZjQ1NDA3MThhMzMzZTZmMGZiMzk2NGMgPSAkKCc8ZGl2IGlkPSJodG1sX2JkNmIxYjA3NmY0NTQwNzE4YTMzM2U2ZjBmYjM5NjRjIiBzdHlsZT0id2lkdGg6IDEwMC4wJTsgaGVpZ2h0OiAxMDAuMCU7Ij5teSBmdWxsIGNpcmNsZSBpbiA1MCBtZXRlcnM8L2Rpdj4nKVswXTsKICAgICAgICAgICAgICAgIHBvcHVwXzM5OTA1NDMzNjUyMzQwMTRhN2MzZjRiZTQwNmMwYzMzLnNldENvbnRlbnQoaHRtbF9iZDZiMWIwNzZmNDU0MDcxOGEzMzNlNmYwZmIzOTY0Yyk7CiAgICAgICAgICAgIAoKICAgICAgICAgICAgY2lyY2xlXzlhNzI1MzczODE5NzQxYTJhZTZhNzc4MTEyMGU1ZGE1LmJpbmRQb3B1cChwb3B1cF8zOTkwNTQzMzY1MjM0MDE0YTdjM2Y0YmU0MDZjMGMzMyk7CgogICAgICAgICAgICAKICAgICAgICAKICAgIAogICAgICAgICAgICB2YXIgY2lyY2xlX21hcmtlcl9kODg0OTBkOTVlNWE0OWMyYWVlZjllN2ViMTgzZDNhNyA9IEwuY2lyY2xlTWFya2VyKAogICAgICAgICAgICAgICAgWzQwLjczMjE1NCwtNzMuOTk4NTE5Nl0sCiAgICAgICAgICAgICAgICB7CiAgImJ1YmJsaW5nTW91c2VFdmVudHMiOiB0cnVlLCAKICAiY29sb3IiOiAiIzMxODZjYyIsIAogICJkYXNoQXJyYXkiOiBudWxsLCAKICAiZGFzaE9mZnNldCI6IG51bGwsIAogICJmaWxsIjogdHJ1ZSwgCiAgImZpbGxDb2xvciI6ICIjMzE4NmNjIiwgCiAgImZpbGxPcGFjaXR5IjogMC4zLCAKICAiZmlsbFJ1bGUiOiAiZXZlbm9kZCIsIAogICJsaW5lQ2FwIjogInJvdW5kIiwgCiAgImxpbmVKb2luIjogInJvdW5kIiwgCiAgIm9wYWNpdHkiOiAxLjAsIAogICJyYWRpdXMiOiA1MCwgCiAgInN0cm9rZSI6IHRydWUsIAogICJ3ZWlnaHQiOiAzCn0KICAgICAgICAgICAgICAgICkuYWRkVG8obWFwXzAzMWM3NjViMTk3ZDQwZWVhNmJhZTJlZDU2NDRiNjhiKTsKICAgICAgICAgICAgCiAgICAKICAgICAgICAgICAgdmFyIHBvcHVwX2E1ZmQxMmYxNjk2ZjQ1NTI4YzkwMzdmZTdiOTQ4NzliID0gTC5wb3B1cCh7bWF4V2lkdGg6ICczMDAnfSk7CgogICAgICAgICAgICAKICAgICAgICAgICAgICAgIHZhciBodG1sXzUxMmMyZDQ1YjA0MTQwMzVhYjMzNDhjZmRhMGE5ZDRmID0gJCgnPGRpdiBpZD0iaHRtbF81MTJjMmQ0NWIwNDE0MDM1YWIzMzQ4Y2ZkYTBhOWQ0ZiIgc3R5bGU9IndpZHRoOiAxMDAuMCU7IGhlaWdodDogMTAwLjAlOyI+bXkgZnVsbCBjaXJjbGUgaW4gNTAgcGl4ZWxzPC9kaXY+JylbMF07CiAgICAgICAgICAgICAgICBwb3B1cF9hNWZkMTJmMTY5NmY0NTUyOGM5MDM3ZmU3Yjk0ODc5Yi5zZXRDb250ZW50KGh0bWxfNTEyYzJkNDViMDQxNDAzNWFiMzM0OGNmZGEwYTlkNGYpOwogICAgICAgICAgICAKCiAgICAgICAgICAgIGNpcmNsZV9tYXJrZXJfZDg4NDkwZDk1ZTVhNDljMmFlZWY5ZTdlYjE4M2QzYTcuYmluZFBvcHVwKHBvcHVwX2E1ZmQxMmYxNjk2ZjQ1NTI4YzkwMzdmZTdiOTQ4NzliKTsKCiAgICAgICAgICAgIAogICAgICAgIAo8L3NjcmlwdD4=\" style=\"position:absolute;width:100%;height:100%;left:0;top:0;border:none !important;\" allowfullscreen webkitallowfullscreen mozallowfullscreen></iframe></div></div>"
      ],
      "text/plain": [
       "<folium.folium.Map at 0x109659150>"
      ]
     },
     "execution_count": 8,
     "metadata": {},
     "output_type": "execute_result"
    }
   ],
   "source": [
    "map_ = folium.Map(location=location, zoom_start=zoom_start, control_scale=True)  # creating new map object\n",
    "\n",
    "radius = 50\n",
    "\n",
    "# ========= In units of meters ============\n",
    "circle_name = 'my full circle in {} meters'.format(radius)\n",
    "circle_full = folium.Circle(location=location, radius=radius, fill_opacity=0.3, popup=circle_name, \n",
    "                            color='#3186cc',fill_color='#3186cc', fill=True)\n",
    "\n",
    "map_.add_child(circle_full) # or circle_full.add_to(map_)\n",
    "\n",
    "# ========= In units of pixels ============\n",
    "circle_name = 'my full circle in {} pixels'.format(radius)\n",
    "\n",
    "location2 = (location[0] + 0.0005, location[1] + 0.001)\n",
    "circle_full_pixels = folium.CircleMarker(location=location2, radius=radius, fill_opacity=0.3, popup=circle_name, \n",
    "                            color='#3186cc',fill_color='#3186cc', fill=True)\n",
    "\n",
    "map_.add_child(circle_full_pixels) # or circle_full_pixels.add_to(map_)\n",
    "# ==========================================\n",
    "\n",
    "map_"
   ]
  },
  {
   "cell_type": "markdown",
   "metadata": {},
   "source": [
    "Note: \n",
    "* Click on each circle to see the labels displayed  \n",
    "* Zoom out and notice that the meters circle gets smaller (remains 50 meters), where the pixel one remains the same size (50 pixels).  \n",
    "* `Circle`s and `CircleMarker`s may be added in `FeatureGroup` and  `MarkerCluster` in the same manner as `Marker`s.  \n",
    "\n",
    "Let's do the same but with empty circles around two points.  \n",
    "Here we also show that you can bold-face the label name with JavaScript `<b>...</b>`, and enter more than one line with the break `<br>`.  "
   ]
  },
  {
   "cell_type": "code",
   "execution_count": 10,
   "metadata": {
    "ExecuteTime": {
     "end_time": "2018-03-12T10:00:36.444488Z",
     "start_time": "2018-03-12T10:00:36.074495Z"
    }
   },
   "outputs": [
    {
     "data": {
      "text/html": [
       "<div style=\"width:100%;\"><div style=\"position:relative;width:100%;height:0;padding-bottom:60%;\"><iframe src=\"data:text/html;charset=utf-8;base64,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\" style=\"position:absolute;width:100%;height:100%;left:0;top:0;border:none !important;\" allowfullscreen webkitallowfullscreen mozallowfullscreen></iframe></div></div>"
      ],
      "text/plain": [
       "<folium.folium.Map at 0x1097b8710>"
      ]
     },
     "execution_count": 10,
     "metadata": {},
     "output_type": "execute_result"
    }
   ],
   "source": [
    "radius_fracs = [0.25, 0.5, 0.75, 1.]\n",
    "\n",
    "center_latitude, center_longitude = 40.729183, -73.994263\n",
    "location = (center_latitude, center_longitude)\n",
    "map_ = folium.Map(location=location, zoom_start=zoom_start, control_scale=True)  # creating new map object\n",
    "\n",
    "for idx, row in df_.iloc[[0, 6]].iterrows(): # looping over locations (choosing two- index location 0 and 6)\n",
    "    for frac in radius_fracs: # looping over the radius factions\n",
    "        radius_temp = radius * frac\n",
    "        name = \"<b>{} New York, NY</b><br>{:0.1f} meters\".format(idx, radius_temp)\n",
    "        folium.Circle(location=row['latitude_longitude'], radius=radius_temp, fill_opacity=0.3, popup=name, \n",
    "                             color='#3186cc',fill_color='#3186cc', fill=False).add_to(map_)\n",
    "\n",
    "map_"
   ]
  },
  {
   "cell_type": "markdown",
   "metadata": {
    "hide_input": true
   },
   "source": [
    "Note: Click on any circle to see the label result (two lines where the title is boldfaced).  "
   ]
  },
  {
   "cell_type": "markdown",
   "metadata": {},
   "source": [
    "## `Marker` and `Circle` Summary\n",
    "\n",
    "In this second part of our three part post we explored putting markers and circles on a map, and grouping them to a layer, which is useful mostly when zooming in to a map.  We also showed that the clustering features is useful when zooming out.  \n",
    "\n",
    "One should be cautious, however, of a crucial limitation of the current Folium API when using `Marker` and `Circle`s - the size of the map increases linearly with the number of objects. (See image below.)  \n",
    "We calculate the gradient to be roughly 1 kByte in size for each geo-location.  This means that 1,000 markers will quickly bring the size of the map up to 1 MByte (on HTML or rendered in a notebook).  In part 3 we discuss heatmaps where we claculate the cost of each geo point to be substantially lower at 40 Bytes.  \n",
    "The main reason for markers and circles being expensive is that we are creating a stand-alone file (the HTML) that stores all called information. When creating the HTML file the API has a script for each object independently, even if though they appear the same on the map. In the future, this could potentially be resolved by using a more efficient HTML script.    \n",
    "\n",
    "Hence, we consider using Folium as useful as a \"quick and dirty\" tool, but not one for production. For production and scalibility we suggest exploring Leaflet in general, or other platforms to create maps.    \n",
    "\n",
    "In the next and fina part we semi-resolve the HTML size issue by explaining how to quickly create heatmaps and choropleths.  \n",
    "\n",
    "![title](../img/folium_htmlSize.png)"
   ]
  }
 ],
 "metadata": {
  "kernelspec": {
   "display_name": "Python 2",
   "language": "python",
   "name": "python2"
  },
  "language_info": {
   "codemirror_mode": {
    "name": "ipython",
    "version": 2
   },
   "file_extension": ".py",
   "mimetype": "text/x-python",
   "name": "python",
   "nbconvert_exporter": "python",
   "pygments_lexer": "ipython2",
   "version": "2.7.8"
  },
  "toc": {
   "colors": {
    "hover_highlight": "#DAA520",
    "running_highlight": "#FF0000",
    "selected_highlight": "#FFD700"
   },
   "moveMenuLeft": true,
   "nav_menu": {
    "height": "153px",
    "width": "252px"
   },
   "navigate_menu": true,
   "number_sections": true,
   "sideBar": true,
   "threshold": 4,
   "toc_cell": false,
   "toc_position": {
    "height": "963px",
    "left": "0px",
    "right": "1470.74px",
    "top": "110px",
    "width": "212px"
   },
   "toc_section_display": "block",
   "toc_window_display": true,
   "widenNotebook": false
  }
 },
 "nbformat": 4,
 "nbformat_minor": 2
}
